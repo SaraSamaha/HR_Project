{
 "cells": [
  {
   "cell_type": "markdown",
   "id": "f77563de-20a5-4992-a60a-83d06900231a",
   "metadata": {},
   "source": [
    "# table of contents\n",
    "* [1 Dataset description](#Mark_down_features)\n",
    "* [2 Import necessary libraries](#Mark_down_features)\n",
    "* [3.Upload CSV file ](#Mark_down_features)\n",
    "* [4 Understand Data ](#Mark_down_features)\n",
    "* [5 Data Cleaning ](#Mark_down_features)\n",
    "* [6 Data Analysis ](#Mark_down_features)\n",
    "* [7 Visulization](#Mark_down_features)\n"
   ]
  },
  {
   "cell_type": "markdown",
   "id": "59b27920-8306-4cdc-9f77-c7be185f8ec6",
   "metadata": {},
   "source": [
    "# [data link](https://mcitegypt-my.sharepoint.com/:u:/r/personal/yasfahmy_debi_gov_eg/Documents/DEGI/DEPI%20Projects/Round%201/BA/Datasets.zip?csf=1&web=1&e=gIqAlT)"
   ]
  },
  {
   "cell_type": "markdown",
   "id": "c2bc0be6-67b5-41f3-9604-79c5b4791703",
   "metadata": {},
   "source": [
    "#  Dataset Description\n",
    "\n",
    "| Column Name                     | Description                                                                 |\n",
    "|---------------------------------|-----------------------------------------------------------------------------|\n",
    "| SatisfactionID                  | This is typically a unique identifier for each record in the dataset. It helps in distinguishing between different entries or responses. |\n",
    "| SatisfactionLevel               | This column describes the level of satisfaction. It usually contains categorical data representing different levels of satisfaction, such as “Very Dissatisfied,” “Dissatisfied,” “Neutral,” “Satisfied,” and “Very Satisfied.” |\n",
    "| RatingID                        | This is usually a unique identifier for each rating entry in the dataset. It helps in distinguishing between different ratings or evaluations. |\n",
    "| RatingLevel                     | This column describes the level or score of the rating. It often contains categorical or numerical data representing different levels of performance, satisfaction, or other metrics. |\n",
    "| PerformanceID                   | A unique identifier for each performance review record. |\n",
    "| EmployeeID                      | A unique identifier for each employee. |\n",
    "| JobSatisfaction                 | A measure of how satisfied the employee is with their job. |\n",
    "| EnvironmentSatisfaction         | A measure of how satisfied the employee is with their work environment. |\n",
    "| RelationshipSatisfaction        | A measure of how satisfied the employee is with their relationships at work, such as with colleagues and supervisors. |\n",
    "| TrainingOpportunitiesWithinYear | The number of training opportunities available to the employee within a year. |\n",
    "| TrainingOpportunitiesTaken      | The number of training opportunities the employee has taken within a year. |\n",
    "| WorkLifeBalance                 | A measure of how well the employee feels they can balance their work and personal life. |\n",
    "| SelfRating                      | The employee’s self-assessment rating. |\n",
    "| ManagerRating                   | The rating given by the employee’s manager. |\n",
    "| FirstName                       | The first name of the employee. |\n",
    "| LastName                        | The last name of the employee. |\n",
    "| Gender                          | The gender of the employee. |\n",
    "| Age                             | The age of the employee. |\n",
    "| BusinessTravel                  | The frequency of business travel for the employee. |\n",
    "| Department                      | The department in which the employee works. |\n",
    "| DistanceFromHome (KM)           | The distance from the employee’s home to the workplace, measured in kilometers. |\n",
    "| State                           | The state where the employee is located. |\n",
    "| Ethnicity                       | The ethnic background of the employee. |\n",
    "| Education                       | The education level of the employee (e.g., High School, Bachelor’s, Master’s). |\n",
    "| EducationField                  | The field of study for the employee’s highest level of education. |\n",
    "| JobRole                         | The specific role or job title of the employee. |\n",
    "| MaritalStatus                   | The marital status of the employee. |\n",
    "| Salary                          | The salary of the employee. |\n",
    "| StockOptionLevel                | The level of stock options granted to the employee. |\n",
    "| OverTime                        | Indicates whether the employee works overtime (Yes/No). |\n",
    "| HireDate                        | The date when the employee was hired. |\n",
    "| Attrition                       | Indicates whether the employee has left the company (Yes/No). |\n",
    "| YearsAtCompany                  | The number of years the employee has been with the company. |\n",
    "| YearsInMostRecentRole           | The number of years the employee has been in their most recent role. |\n",
    "| YearsSinceLastPromotion         | The number of years since the employee’s last promotion. |\n",
    "| YearsWithCurrManager            | The number of years the employee has worked with their current manager. |\n",
    "| EducationLevelID                | This is usually a unique identifier for each education level. |\n",
    "| EducationLevel                  | The specific level of education. It often contains categorical data representing different stages of education, such as “High School,” “Bachelor’s,” “Master’s,” “Doctorate.” |\n"
   ]
  },
  {
   "cell_type": "markdown",
   "id": "f1e09965-6c4e-4dcb-a09f-794388273ba0",
   "metadata": {},
   "source": [
    "## 2.Import necessary libraries"
   ]
  },
  {
   "cell_type": "code",
   "execution_count": 6,
   "id": "a9f39978-bcb6-46e2-b402-098dc64be8f4",
   "metadata": {},
   "outputs": [],
   "source": [
    "import pandas as pd \n",
    "import numpy as np \n",
    "import seaborn as sns\n",
    "import matplotlib as plt\n",
    "import re"
   ]
  },
  {
   "cell_type": "markdown",
   "id": "70cdbcb1-e6f8-436a-b547-86858b47334c",
   "metadata": {},
   "source": [
    "## 3.Upload CSV files"
   ]
  },
  {
   "cell_type": "code",
   "execution_count": 7,
   "id": "eee155ee-5571-4af3-90ea-fb0e7b7a4b3c",
   "metadata": {},
   "outputs": [],
   "source": [
    "satisfied_level = pd.read_csv(r'C:\\Users\\Al tyseer abdo\\OneDrive\\Desktop\\HR\\SatisfiedLevel.csv')\n",
    "rating_level = pd.read_csv(r'C:\\Users\\Al tyseer abdo\\OneDrive\\Desktop\\HR\\RatingLevel.csv')\n",
    "performance_rating = pd.read_csv(r'C:\\Users\\Al tyseer abdo\\OneDrive\\Desktop\\HR\\PerformanceRating.csv')\n",
    "employee = pd.read_csv(r'C:\\Users\\Al tyseer abdo\\OneDrive\\Desktop\\HR\\Employee.csv')\n",
    "education_level = pd.read_csv(r'C:\\Users\\Al tyseer abdo\\OneDrive\\Desktop\\HR\\EducationLevel.csv')"
   ]
  },
  {
   "cell_type": "markdown",
   "id": "2e63eba7-f586-4400-92ed-f1251bea98a0",
   "metadata": {},
   "source": [
    "## 4. Understanding Data "
   ]
  },
  {
   "cell_type": "markdown",
   "id": "992dc1c2-9370-464a-ba38-1ce9a1118a9b",
   "metadata": {},
   "source": [
    "### 1. Understanding Data [satisfied_level]"
   ]
  },
  {
   "cell_type": "code",
   "execution_count": 8,
   "id": "fe844181-b2ca-4eb2-97d4-233640caacf3",
   "metadata": {},
   "outputs": [
    {
     "name": "stdout",
     "output_type": "stream",
     "text": [
      "<class 'pandas.core.frame.DataFrame'>\n",
      "RangeIndex: 5 entries, 0 to 4\n",
      "Data columns (total 2 columns):\n",
      " #   Column             Non-Null Count  Dtype \n",
      "---  ------             --------------  ----- \n",
      " 0   SatisfactionID     5 non-null      int64 \n",
      " 1   SatisfactionLevel  5 non-null      object\n",
      "dtypes: int64(1), object(1)\n",
      "memory usage: 212.0+ bytes\n"
     ]
    }
   ],
   "source": [
    "satisfied_level.info()"
   ]
  },
  {
   "cell_type": "code",
   "execution_count": 9,
   "id": "0bd817aa-547a-4ac3-a5ae-667d69835644",
   "metadata": {},
   "outputs": [
    {
     "data": {
      "text/plain": [
       "(5, 2)"
      ]
     },
     "execution_count": 9,
     "metadata": {},
     "output_type": "execute_result"
    }
   ],
   "source": [
    "satisfied_level.shape"
   ]
  },
  {
   "cell_type": "code",
   "execution_count": 10,
   "id": "efad5869-071f-475b-a4e7-6f17a6051373",
   "metadata": {},
   "outputs": [
    {
     "data": {
      "text/plain": [
       "SatisfactionID        int64\n",
       "SatisfactionLevel    object\n",
       "dtype: object"
      ]
     },
     "execution_count": 10,
     "metadata": {},
     "output_type": "execute_result"
    }
   ],
   "source": [
    "satisfied_level.dtypes"
   ]
  },
  {
   "cell_type": "code",
   "execution_count": 11,
   "id": "3f84b5ae-bd07-4476-8641-19551d5ec146",
   "metadata": {},
   "outputs": [
    {
     "data": {
      "text/plain": [
       "0    False\n",
       "1    False\n",
       "2    False\n",
       "3    False\n",
       "4    False\n",
       "dtype: bool"
      ]
     },
     "execution_count": 11,
     "metadata": {},
     "output_type": "execute_result"
    }
   ],
   "source": [
    "satisfied_level.duplicated()"
   ]
  },
  {
   "cell_type": "code",
   "execution_count": 12,
   "id": "f9ecd590-39c0-48b2-bce8-3ce2d610ac79",
   "metadata": {},
   "outputs": [
    {
     "data": {
      "text/plain": [
       "SatisfactionID       0\n",
       "SatisfactionLevel    0\n",
       "dtype: int64"
      ]
     },
     "execution_count": 12,
     "metadata": {},
     "output_type": "execute_result"
    }
   ],
   "source": [
    "satisfied_level.isnull().sum()"
   ]
  },
  {
   "cell_type": "markdown",
   "id": "a1b8c4a3-27a5-48ec-abe1-65afca0c4000",
   "metadata": {},
   "source": [
    "### 2. Understanding Data [rating_level]"
   ]
  },
  {
   "cell_type": "code",
   "execution_count": 13,
   "id": "b93fc7a7-0dc5-41bd-98dc-8471f0235916",
   "metadata": {},
   "outputs": [
    {
     "name": "stdout",
     "output_type": "stream",
     "text": [
      "<class 'pandas.core.frame.DataFrame'>\n",
      "RangeIndex: 5 entries, 0 to 4\n",
      "Data columns (total 2 columns):\n",
      " #   Column       Non-Null Count  Dtype \n",
      "---  ------       --------------  ----- \n",
      " 0   RatingID     5 non-null      int64 \n",
      " 1   RatingLevel  5 non-null      object\n",
      "dtypes: int64(1), object(1)\n",
      "memory usage: 212.0+ bytes\n"
     ]
    }
   ],
   "source": [
    "rating_level.info()"
   ]
  },
  {
   "cell_type": "code",
   "execution_count": 14,
   "id": "e0ed8a2a-f57b-4b3a-bb7d-fececa081c82",
   "metadata": {},
   "outputs": [
    {
     "data": {
      "text/plain": [
       "(5, 2)"
      ]
     },
     "execution_count": 14,
     "metadata": {},
     "output_type": "execute_result"
    }
   ],
   "source": [
    "rating_level.shape"
   ]
  },
  {
   "cell_type": "code",
   "execution_count": 15,
   "id": "80bb23d4-5015-46b3-99e5-6c721d5c29a1",
   "metadata": {},
   "outputs": [
    {
     "data": {
      "text/plain": [
       "RatingID        int64\n",
       "RatingLevel    object\n",
       "dtype: object"
      ]
     },
     "execution_count": 15,
     "metadata": {},
     "output_type": "execute_result"
    }
   ],
   "source": [
    "rating_level.dtypes"
   ]
  },
  {
   "cell_type": "code",
   "execution_count": 16,
   "id": "276ac8c0-7f7a-4659-9c2a-cae20c8396fa",
   "metadata": {},
   "outputs": [
    {
     "data": {
      "text/plain": [
       "0    False\n",
       "1    False\n",
       "2    False\n",
       "3    False\n",
       "4    False\n",
       "dtype: bool"
      ]
     },
     "execution_count": 16,
     "metadata": {},
     "output_type": "execute_result"
    }
   ],
   "source": [
    "rating_level.duplicated()"
   ]
  },
  {
   "cell_type": "code",
   "execution_count": 17,
   "id": "983cf39a-bb16-4dfd-97a3-3718ae5be432",
   "metadata": {},
   "outputs": [
    {
     "data": {
      "text/plain": [
       "RatingID       0\n",
       "RatingLevel    0\n",
       "dtype: int64"
      ]
     },
     "execution_count": 17,
     "metadata": {},
     "output_type": "execute_result"
    }
   ],
   "source": [
    "rating_level.isnull().sum()\n"
   ]
  },
  {
   "cell_type": "markdown",
   "id": "b9d5c772-d7e3-4d55-a125-a90dccd07486",
   "metadata": {},
   "source": [
    "### 3. Understanding Data [performance_rating]"
   ]
  },
  {
   "cell_type": "code",
   "execution_count": 18,
   "id": "d09ba60b-80f8-459e-8bfc-779f820d399c",
   "metadata": {},
   "outputs": [
    {
     "name": "stdout",
     "output_type": "stream",
     "text": [
      "<class 'pandas.core.frame.DataFrame'>\n",
      "RangeIndex: 6709 entries, 0 to 6708\n",
      "Data columns (total 11 columns):\n",
      " #   Column                           Non-Null Count  Dtype \n",
      "---  ------                           --------------  ----- \n",
      " 0   PerformanceID                    6709 non-null   object\n",
      " 1   EmployeeID                       6709 non-null   object\n",
      " 2   ReviewDate                       6709 non-null   object\n",
      " 3   EnvironmentSatisfaction          6709 non-null   int64 \n",
      " 4   JobSatisfaction                  6709 non-null   int64 \n",
      " 5   RelationshipSatisfaction         6709 non-null   int64 \n",
      " 6   TrainingOpportunitiesWithinYear  6709 non-null   int64 \n",
      " 7   TrainingOpportunitiesTaken       6709 non-null   int64 \n",
      " 8   WorkLifeBalance                  6709 non-null   int64 \n",
      " 9   SelfRating                       6709 non-null   int64 \n",
      " 10  ManagerRating                    6709 non-null   int64 \n",
      "dtypes: int64(8), object(3)\n",
      "memory usage: 576.7+ KB\n"
     ]
    }
   ],
   "source": [
    "performance_rating.info()"
   ]
  },
  {
   "cell_type": "code",
   "execution_count": 19,
   "id": "fb2535e9-78c5-463a-a044-1a9b4da6c757",
   "metadata": {},
   "outputs": [
    {
     "data": {
      "text/plain": [
       "(6709, 11)"
      ]
     },
     "execution_count": 19,
     "metadata": {},
     "output_type": "execute_result"
    }
   ],
   "source": [
    "performance_rating.shape"
   ]
  },
  {
   "cell_type": "code",
   "execution_count": 20,
   "id": "27743efb-a499-4b83-9443-0b6d1f2df623",
   "metadata": {},
   "outputs": [
    {
     "data": {
      "text/plain": [
       "PerformanceID                      object\n",
       "EmployeeID                         object\n",
       "ReviewDate                         object\n",
       "EnvironmentSatisfaction             int64\n",
       "JobSatisfaction                     int64\n",
       "RelationshipSatisfaction            int64\n",
       "TrainingOpportunitiesWithinYear     int64\n",
       "TrainingOpportunitiesTaken          int64\n",
       "WorkLifeBalance                     int64\n",
       "SelfRating                          int64\n",
       "ManagerRating                       int64\n",
       "dtype: object"
      ]
     },
     "execution_count": 20,
     "metadata": {},
     "output_type": "execute_result"
    }
   ],
   "source": [
    "performance_rating.dtypes"
   ]
  },
  {
   "cell_type": "code",
   "execution_count": 21,
   "id": "697c87c1-0fe2-4560-a2bc-0f9b61c9e1e5",
   "metadata": {},
   "outputs": [
    {
     "data": {
      "text/plain": [
       "0       False\n",
       "1       False\n",
       "2       False\n",
       "3       False\n",
       "4       False\n",
       "        ...  \n",
       "6704    False\n",
       "6705    False\n",
       "6706    False\n",
       "6707    False\n",
       "6708    False\n",
       "Length: 6709, dtype: bool"
      ]
     },
     "execution_count": 21,
     "metadata": {},
     "output_type": "execute_result"
    }
   ],
   "source": [
    "performance_rating.duplicated()"
   ]
  },
  {
   "cell_type": "code",
   "execution_count": 22,
   "id": "2ddefc74-bbc0-4e2d-a31e-68fe836007ce",
   "metadata": {},
   "outputs": [
    {
     "data": {
      "text/plain": [
       "PerformanceID                      0\n",
       "EmployeeID                         0\n",
       "ReviewDate                         0\n",
       "EnvironmentSatisfaction            0\n",
       "JobSatisfaction                    0\n",
       "RelationshipSatisfaction           0\n",
       "TrainingOpportunitiesWithinYear    0\n",
       "TrainingOpportunitiesTaken         0\n",
       "WorkLifeBalance                    0\n",
       "SelfRating                         0\n",
       "ManagerRating                      0\n",
       "dtype: int64"
      ]
     },
     "execution_count": 22,
     "metadata": {},
     "output_type": "execute_result"
    }
   ],
   "source": [
    "performance_rating.isnull().sum()"
   ]
  },
  {
   "cell_type": "markdown",
   "id": "55b09674-e845-4533-8347-81c0aafedccf",
   "metadata": {},
   "source": [
    "### 4. Understanding Data [employee]"
   ]
  },
  {
   "cell_type": "code",
   "execution_count": 23,
   "id": "1341b948-3326-42b1-86d1-5367a05ec381",
   "metadata": {
    "scrolled": true
   },
   "outputs": [
    {
     "name": "stdout",
     "output_type": "stream",
     "text": [
      "<class 'pandas.core.frame.DataFrame'>\n",
      "RangeIndex: 1470 entries, 0 to 1469\n",
      "Data columns (total 23 columns):\n",
      " #   Column                   Non-Null Count  Dtype \n",
      "---  ------                   --------------  ----- \n",
      " 0   EmployeeID               1470 non-null   object\n",
      " 1   FirstName                1470 non-null   object\n",
      " 2   LastName                 1470 non-null   object\n",
      " 3   Gender                   1470 non-null   object\n",
      " 4   Age                      1470 non-null   int64 \n",
      " 5   BusinessTravel           1470 non-null   object\n",
      " 6   Department               1470 non-null   object\n",
      " 7   DistanceFromHome (KM)    1470 non-null   int64 \n",
      " 8   State                    1470 non-null   object\n",
      " 9   Ethnicity                1470 non-null   object\n",
      " 10  Education                1470 non-null   int64 \n",
      " 11  EducationField           1470 non-null   object\n",
      " 12  JobRole                  1470 non-null   object\n",
      " 13  MaritalStatus            1470 non-null   object\n",
      " 14  Salary                   1470 non-null   int64 \n",
      " 15  StockOptionLevel         1470 non-null   int64 \n",
      " 16  OverTime                 1470 non-null   object\n",
      " 17  HireDate                 1470 non-null   object\n",
      " 18  Attrition                1470 non-null   object\n",
      " 19  YearsAtCompany           1470 non-null   int64 \n",
      " 20  YearsInMostRecentRole    1470 non-null   int64 \n",
      " 21  YearsSinceLastPromotion  1470 non-null   int64 \n",
      " 22  YearsWithCurrManager     1470 non-null   int64 \n",
      "dtypes: int64(9), object(14)\n",
      "memory usage: 264.3+ KB\n"
     ]
    }
   ],
   "source": [
    "employee.info()"
   ]
  },
  {
   "cell_type": "code",
   "execution_count": 24,
   "id": "539f9140-17ec-43a2-b8cd-c1629cf8e9a2",
   "metadata": {},
   "outputs": [
    {
     "data": {
      "text/plain": [
       "(1470, 23)"
      ]
     },
     "execution_count": 24,
     "metadata": {},
     "output_type": "execute_result"
    }
   ],
   "source": [
    "employee.shape"
   ]
  },
  {
   "cell_type": "code",
   "execution_count": 25,
   "id": "ba5d61ba-c290-4196-a8c9-a28e1f14adfa",
   "metadata": {
    "scrolled": true
   },
   "outputs": [
    {
     "data": {
      "text/plain": [
       "EmployeeID                 object\n",
       "FirstName                  object\n",
       "LastName                   object\n",
       "Gender                     object\n",
       "Age                         int64\n",
       "BusinessTravel             object\n",
       "Department                 object\n",
       "DistanceFromHome (KM)       int64\n",
       "State                      object\n",
       "Ethnicity                  object\n",
       "Education                   int64\n",
       "EducationField             object\n",
       "JobRole                    object\n",
       "MaritalStatus              object\n",
       "Salary                      int64\n",
       "StockOptionLevel            int64\n",
       "OverTime                   object\n",
       "HireDate                   object\n",
       "Attrition                  object\n",
       "YearsAtCompany              int64\n",
       "YearsInMostRecentRole       int64\n",
       "YearsSinceLastPromotion     int64\n",
       "YearsWithCurrManager        int64\n",
       "dtype: object"
      ]
     },
     "execution_count": 25,
     "metadata": {},
     "output_type": "execute_result"
    }
   ],
   "source": [
    "employee.dtypes"
   ]
  },
  {
   "cell_type": "code",
   "execution_count": 26,
   "id": "59ec36cf-d16c-40c5-90b3-2dcbe8ebe0b8",
   "metadata": {},
   "outputs": [
    {
     "data": {
      "text/plain": [
       "0       False\n",
       "1       False\n",
       "2       False\n",
       "3       False\n",
       "4       False\n",
       "        ...  \n",
       "1465    False\n",
       "1466    False\n",
       "1467    False\n",
       "1468    False\n",
       "1469    False\n",
       "Length: 1470, dtype: bool"
      ]
     },
     "execution_count": 26,
     "metadata": {},
     "output_type": "execute_result"
    }
   ],
   "source": [
    "employee.duplicated()"
   ]
  },
  {
   "cell_type": "code",
   "execution_count": 27,
   "id": "f9fc116a-d5ce-45ba-9d67-650448eae1b9",
   "metadata": {
    "scrolled": true
   },
   "outputs": [
    {
     "data": {
      "text/plain": [
       "EmployeeID                 0\n",
       "FirstName                  0\n",
       "LastName                   0\n",
       "Gender                     0\n",
       "Age                        0\n",
       "BusinessTravel             0\n",
       "Department                 0\n",
       "DistanceFromHome (KM)      0\n",
       "State                      0\n",
       "Ethnicity                  0\n",
       "Education                  0\n",
       "EducationField             0\n",
       "JobRole                    0\n",
       "MaritalStatus              0\n",
       "Salary                     0\n",
       "StockOptionLevel           0\n",
       "OverTime                   0\n",
       "HireDate                   0\n",
       "Attrition                  0\n",
       "YearsAtCompany             0\n",
       "YearsInMostRecentRole      0\n",
       "YearsSinceLastPromotion    0\n",
       "YearsWithCurrManager       0\n",
       "dtype: int64"
      ]
     },
     "execution_count": 27,
     "metadata": {},
     "output_type": "execute_result"
    }
   ],
   "source": [
    "employee.isnull().sum()\n"
   ]
  },
  {
   "cell_type": "markdown",
   "id": "c9f628f6-83ce-41ad-ae52-bc621521a5d5",
   "metadata": {},
   "source": [
    "### 5. Understanding Data [education_level]"
   ]
  },
  {
   "cell_type": "code",
   "execution_count": 28,
   "id": "6fe0e2e2-3d0d-4d30-93a8-4c2eee96d39a",
   "metadata": {},
   "outputs": [
    {
     "name": "stdout",
     "output_type": "stream",
     "text": [
      "<class 'pandas.core.frame.DataFrame'>\n",
      "RangeIndex: 5 entries, 0 to 4\n",
      "Data columns (total 2 columns):\n",
      " #   Column            Non-Null Count  Dtype \n",
      "---  ------            --------------  ----- \n",
      " 0   EducationLevelID  5 non-null      int64 \n",
      " 1   EducationLevel    5 non-null      object\n",
      "dtypes: int64(1), object(1)\n",
      "memory usage: 212.0+ bytes\n"
     ]
    }
   ],
   "source": [
    "education_level.info()"
   ]
  },
  {
   "cell_type": "code",
   "execution_count": 29,
   "id": "7329882c-bb61-472a-aeb4-c7309dd7397d",
   "metadata": {},
   "outputs": [
    {
     "data": {
      "text/plain": [
       "(5, 2)"
      ]
     },
     "execution_count": 29,
     "metadata": {},
     "output_type": "execute_result"
    }
   ],
   "source": [
    "education_level.shape"
   ]
  },
  {
   "cell_type": "code",
   "execution_count": 30,
   "id": "332ce80c-9bd2-469e-90a6-b404434400cc",
   "metadata": {},
   "outputs": [
    {
     "data": {
      "text/plain": [
       "EducationLevelID     int64\n",
       "EducationLevel      object\n",
       "dtype: object"
      ]
     },
     "execution_count": 30,
     "metadata": {},
     "output_type": "execute_result"
    }
   ],
   "source": [
    "education_level.dtypes"
   ]
  },
  {
   "cell_type": "code",
   "execution_count": 31,
   "id": "5685fb27-c928-41be-b23d-1a235a228bb1",
   "metadata": {},
   "outputs": [
    {
     "data": {
      "text/plain": [
       "0    False\n",
       "1    False\n",
       "2    False\n",
       "3    False\n",
       "4    False\n",
       "dtype: bool"
      ]
     },
     "execution_count": 31,
     "metadata": {},
     "output_type": "execute_result"
    }
   ],
   "source": [
    "education_level.duplicated()\n"
   ]
  },
  {
   "cell_type": "code",
   "execution_count": 32,
   "id": "0d4855b5-034b-4827-bebb-589408dd8e68",
   "metadata": {},
   "outputs": [
    {
     "data": {
      "text/plain": [
       "EducationLevelID    0\n",
       "EducationLevel      0\n",
       "dtype: int64"
      ]
     },
     "execution_count": 32,
     "metadata": {},
     "output_type": "execute_result"
    }
   ],
   "source": [
    "education_level.isnull().sum()\n"
   ]
  },
  {
   "cell_type": "markdown",
   "id": "9d58e65c-0643-4fc5-a4b8-daf702a5a841",
   "metadata": {},
   "source": [
    "## 5.Data Cleaning"
   ]
  },
  {
   "cell_type": "code",
   "execution_count": 33,
   "id": "30161371-34d6-438e-a96d-a208e47f0d77",
   "metadata": {},
   "outputs": [
    {
     "data": {
      "text/html": [
       "<div>\n",
       "<style scoped>\n",
       "    .dataframe tbody tr th:only-of-type {\n",
       "        vertical-align: middle;\n",
       "    }\n",
       "\n",
       "    .dataframe tbody tr th {\n",
       "        vertical-align: top;\n",
       "    }\n",
       "\n",
       "    .dataframe thead th {\n",
       "        text-align: right;\n",
       "    }\n",
       "</style>\n",
       "<table border=\"1\" class=\"dataframe\">\n",
       "  <thead>\n",
       "    <tr style=\"text-align: right;\">\n",
       "      <th></th>\n",
       "      <th>ID</th>\n",
       "      <th>Level</th>\n",
       "    </tr>\n",
       "  </thead>\n",
       "  <tbody>\n",
       "    <tr>\n",
       "      <th>0</th>\n",
       "      <td>1</td>\n",
       "      <td>Very Dissatisfied</td>\n",
       "    </tr>\n",
       "    <tr>\n",
       "      <th>1</th>\n",
       "      <td>2</td>\n",
       "      <td>Dissatisfied</td>\n",
       "    </tr>\n",
       "    <tr>\n",
       "      <th>2</th>\n",
       "      <td>3</td>\n",
       "      <td>Neutral</td>\n",
       "    </tr>\n",
       "    <tr>\n",
       "      <th>3</th>\n",
       "      <td>4</td>\n",
       "      <td>Satisfied</td>\n",
       "    </tr>\n",
       "    <tr>\n",
       "      <th>4</th>\n",
       "      <td>5</td>\n",
       "      <td>Very Satisfied</td>\n",
       "    </tr>\n",
       "  </tbody>\n",
       "</table>\n",
       "</div>"
      ],
      "text/plain": [
       "   ID              Level\n",
       "0   1  Very Dissatisfied\n",
       "1   2       Dissatisfied\n",
       "2   3            Neutral\n",
       "3   4         Satisfied \n",
       "4   5     Very Satisfied"
      ]
     },
     "execution_count": 33,
     "metadata": {},
     "output_type": "execute_result"
    }
   ],
   "source": [
    "satisfied_level.rename(columns={\n",
    "    'SatisfactionID': 'ID',\n",
    "    'SatisfactionLevel': 'Level'\n",
    "}, inplace=True)\n",
    "\n",
    "satisfied_level.head()\n"
   ]
  },
  {
   "cell_type": "code",
   "execution_count": 34,
   "id": "0da08e2a-3b09-417a-b1ae-8e86a5735aca",
   "metadata": {},
   "outputs": [
    {
     "name": "stdout",
     "output_type": "stream",
     "text": [
      "   ID                 Level\n",
      "0   1          Unacceptable\n",
      "1   2     Needs Improvement\n",
      "2   3     Meets Expectation\n",
      "3   4  Exceeds Expectation \n",
      "4   5      Above and Beyond\n"
     ]
    }
   ],
   "source": [
    "rating_level.rename(columns={\n",
    "    'RatingID': 'ID',\n",
    "    'RatingLevel': 'Level'\n",
    "}, inplace=True)\n",
    "\n",
    "print(rating_level.head())\n"
   ]
  },
  {
   "cell_type": "code",
   "execution_count": 35,
   "id": "8479b061-e5f8-4d58-b79a-49d39bf259ed",
   "metadata": {},
   "outputs": [
    {
     "name": "stdout",
     "output_type": "stream",
     "text": [
      "     ID      EmpID      Date  EnvironmentSatisfaction  JobSatisfaction  \\\n",
      "0  PR01  79F7-78EC  1/2/2013                        5                4   \n",
      "1  PR02  B61E-0F26  1/3/2013                        5                4   \n",
      "2  PR03  F5E3-48BB  1/3/2013                        3                4   \n",
      "3  PR04  0678-748A  1/4/2013                        5                3   \n",
      "4  PR05  541F-3E19  1/4/2013                        5                2   \n",
      "\n",
      "   RelationshipSatisfaction  TrainingOpportunitiesWithinYear  \\\n",
      "0                         5                                1   \n",
      "1                         4                                1   \n",
      "2                         5                                3   \n",
      "3                         2                                2   \n",
      "4                         3                                1   \n",
      "\n",
      "   TrainingOpportunitiesTaken  WorkLifeBalance  SelfRating  ManagerRating  \n",
      "0                           0                4           4              4  \n",
      "1                           3                4           4              3  \n",
      "2                           2                3           5              4  \n",
      "3                           0                2           3              2  \n",
      "4                           0                4           4              3  \n"
     ]
    }
   ],
   "source": [
    "performance_rating.rename(columns={\n",
    "    'PerformanceID': 'ID',\n",
    "    'EmployeeID': 'EmpID',\n",
    "    'ReviewDate': 'Date',\n",
    "  \n",
    "}, inplace=True)\n",
    "\n",
    "print(performance_rating.head())\n"
   ]
  },
  {
   "cell_type": "code",
   "execution_count": 52,
   "id": "24e6fb11-e8f2-4bb7-babd-88f0b48b8fdd",
   "metadata": {
    "scrolled": true
   },
   "outputs": [
    {
     "data": {
      "text/html": [
       "<div>\n",
       "<style scoped>\n",
       "    .dataframe tbody tr th:only-of-type {\n",
       "        vertical-align: middle;\n",
       "    }\n",
       "\n",
       "    .dataframe tbody tr th {\n",
       "        vertical-align: top;\n",
       "    }\n",
       "\n",
       "    .dataframe thead th {\n",
       "        text-align: right;\n",
       "    }\n",
       "</style>\n",
       "<table border=\"1\" class=\"dataframe\">\n",
       "  <thead>\n",
       "    <tr style=\"text-align: right;\">\n",
       "      <th></th>\n",
       "      <th>ID</th>\n",
       "      <th>EmpID</th>\n",
       "      <th>Date</th>\n",
       "      <th>EnvironmentSatisfaction</th>\n",
       "      <th>JobSatisfaction</th>\n",
       "      <th>RelationshipSatisfaction</th>\n",
       "      <th>TrainingOpportunitiesWithinYear</th>\n",
       "      <th>TrainingOpportunitiesTaken</th>\n",
       "      <th>WorkLifeBalance</th>\n",
       "      <th>SelfRating</th>\n",
       "      <th>ManagerRating</th>\n",
       "    </tr>\n",
       "  </thead>\n",
       "  <tbody>\n",
       "    <tr>\n",
       "      <th>0</th>\n",
       "      <td>01</td>\n",
       "      <td>79F7-78EC</td>\n",
       "      <td>2013-01-02</td>\n",
       "      <td>5</td>\n",
       "      <td>4</td>\n",
       "      <td>5</td>\n",
       "      <td>1</td>\n",
       "      <td>0</td>\n",
       "      <td>4</td>\n",
       "      <td>4</td>\n",
       "      <td>4</td>\n",
       "    </tr>\n",
       "    <tr>\n",
       "      <th>1</th>\n",
       "      <td>02</td>\n",
       "      <td>B61E-0F26</td>\n",
       "      <td>2013-01-03</td>\n",
       "      <td>5</td>\n",
       "      <td>4</td>\n",
       "      <td>4</td>\n",
       "      <td>1</td>\n",
       "      <td>3</td>\n",
       "      <td>4</td>\n",
       "      <td>4</td>\n",
       "      <td>3</td>\n",
       "    </tr>\n",
       "    <tr>\n",
       "      <th>2</th>\n",
       "      <td>03</td>\n",
       "      <td>F5E3-48BB</td>\n",
       "      <td>2013-01-03</td>\n",
       "      <td>3</td>\n",
       "      <td>4</td>\n",
       "      <td>5</td>\n",
       "      <td>3</td>\n",
       "      <td>2</td>\n",
       "      <td>3</td>\n",
       "      <td>5</td>\n",
       "      <td>4</td>\n",
       "    </tr>\n",
       "    <tr>\n",
       "      <th>3</th>\n",
       "      <td>04</td>\n",
       "      <td>0678-748A</td>\n",
       "      <td>2013-01-04</td>\n",
       "      <td>5</td>\n",
       "      <td>3</td>\n",
       "      <td>2</td>\n",
       "      <td>2</td>\n",
       "      <td>0</td>\n",
       "      <td>2</td>\n",
       "      <td>3</td>\n",
       "      <td>2</td>\n",
       "    </tr>\n",
       "    <tr>\n",
       "      <th>4</th>\n",
       "      <td>05</td>\n",
       "      <td>541F-3E19</td>\n",
       "      <td>2013-01-04</td>\n",
       "      <td>5</td>\n",
       "      <td>2</td>\n",
       "      <td>3</td>\n",
       "      <td>1</td>\n",
       "      <td>0</td>\n",
       "      <td>4</td>\n",
       "      <td>4</td>\n",
       "      <td>3</td>\n",
       "    </tr>\n",
       "    <tr>\n",
       "      <th>...</th>\n",
       "      <td>...</td>\n",
       "      <td>...</td>\n",
       "      <td>...</td>\n",
       "      <td>...</td>\n",
       "      <td>...</td>\n",
       "      <td>...</td>\n",
       "      <td>...</td>\n",
       "      <td>...</td>\n",
       "      <td>...</td>\n",
       "      <td>...</td>\n",
       "      <td>...</td>\n",
       "    </tr>\n",
       "    <tr>\n",
       "      <th>6704</th>\n",
       "      <td>995</td>\n",
       "      <td>4F28-CFAF</td>\n",
       "      <td>2016-03-14</td>\n",
       "      <td>5</td>\n",
       "      <td>3</td>\n",
       "      <td>3</td>\n",
       "      <td>3</td>\n",
       "      <td>1</td>\n",
       "      <td>5</td>\n",
       "      <td>5</td>\n",
       "      <td>4</td>\n",
       "    </tr>\n",
       "    <tr>\n",
       "      <th>6705</th>\n",
       "      <td>996</td>\n",
       "      <td>7C80-94E0</td>\n",
       "      <td>2016-03-14</td>\n",
       "      <td>3</td>\n",
       "      <td>5</td>\n",
       "      <td>4</td>\n",
       "      <td>2</td>\n",
       "      <td>1</td>\n",
       "      <td>3</td>\n",
       "      <td>4</td>\n",
       "      <td>4</td>\n",
       "    </tr>\n",
       "    <tr>\n",
       "      <th>6706</th>\n",
       "      <td>997</td>\n",
       "      <td>8233-2483</td>\n",
       "      <td>2016-03-14</td>\n",
       "      <td>3</td>\n",
       "      <td>4</td>\n",
       "      <td>2</td>\n",
       "      <td>3</td>\n",
       "      <td>1</td>\n",
       "      <td>2</td>\n",
       "      <td>3</td>\n",
       "      <td>2</td>\n",
       "    </tr>\n",
       "    <tr>\n",
       "      <th>6707</th>\n",
       "      <td>998</td>\n",
       "      <td>8A5B-3D6E</td>\n",
       "      <td>2016-03-15</td>\n",
       "      <td>5</td>\n",
       "      <td>2</td>\n",
       "      <td>5</td>\n",
       "      <td>2</td>\n",
       "      <td>2</td>\n",
       "      <td>4</td>\n",
       "      <td>3</td>\n",
       "      <td>3</td>\n",
       "    </tr>\n",
       "    <tr>\n",
       "      <th>6708</th>\n",
       "      <td>999</td>\n",
       "      <td>4500-37EB</td>\n",
       "      <td>2016-03-16</td>\n",
       "      <td>4</td>\n",
       "      <td>5</td>\n",
       "      <td>5</td>\n",
       "      <td>3</td>\n",
       "      <td>1</td>\n",
       "      <td>2</td>\n",
       "      <td>3</td>\n",
       "      <td>3</td>\n",
       "    </tr>\n",
       "  </tbody>\n",
       "</table>\n",
       "<p>6709 rows × 11 columns</p>\n",
       "</div>"
      ],
      "text/plain": [
       "       ID      EmpID       Date  EnvironmentSatisfaction  JobSatisfaction  \\\n",
       "0      01  79F7-78EC 2013-01-02                        5                4   \n",
       "1      02  B61E-0F26 2013-01-03                        5                4   \n",
       "2      03  F5E3-48BB 2013-01-03                        3                4   \n",
       "3      04  0678-748A 2013-01-04                        5                3   \n",
       "4      05  541F-3E19 2013-01-04                        5                2   \n",
       "...   ...        ...        ...                      ...              ...   \n",
       "6704  995  4F28-CFAF 2016-03-14                        5                3   \n",
       "6705  996  7C80-94E0 2016-03-14                        3                5   \n",
       "6706  997  8233-2483 2016-03-14                        3                4   \n",
       "6707  998  8A5B-3D6E 2016-03-15                        5                2   \n",
       "6708  999  4500-37EB 2016-03-16                        4                5   \n",
       "\n",
       "      RelationshipSatisfaction  TrainingOpportunitiesWithinYear  \\\n",
       "0                            5                                1   \n",
       "1                            4                                1   \n",
       "2                            5                                3   \n",
       "3                            2                                2   \n",
       "4                            3                                1   \n",
       "...                        ...                              ...   \n",
       "6704                         3                                3   \n",
       "6705                         4                                2   \n",
       "6706                         2                                3   \n",
       "6707                         5                                2   \n",
       "6708                         5                                3   \n",
       "\n",
       "      TrainingOpportunitiesTaken  WorkLifeBalance  SelfRating  ManagerRating  \n",
       "0                              0                4           4              4  \n",
       "1                              3                4           4              3  \n",
       "2                              2                3           5              4  \n",
       "3                              0                2           3              2  \n",
       "4                              0                4           4              3  \n",
       "...                          ...              ...         ...            ...  \n",
       "6704                           1                5           5              4  \n",
       "6705                           1                3           4              4  \n",
       "6706                           1                2           3              2  \n",
       "6707                           2                4           3              3  \n",
       "6708                           1                2           3              3  \n",
       "\n",
       "[6709 rows x 11 columns]"
      ]
     },
     "execution_count": 52,
     "metadata": {},
     "output_type": "execute_result"
    }
   ],
   "source": [
    "performance_rating['ID'] = performance_rating['ID'].str.replace('PR', '')\n",
    "performance_rating"
   ]
  },
  {
   "cell_type": "code",
   "execution_count": 36,
   "id": "07a236fa-d25e-40b8-a224-d9356c1eafcc",
   "metadata": {},
   "outputs": [
    {
     "name": "stdout",
     "output_type": "stream",
     "text": [
      "     ID      EmpID       Date  EnvironmentSatisfaction  JobSatisfaction  \\\n",
      "0  PR01  79F7-78EC 2013-01-02                        5                4   \n",
      "1  PR02  B61E-0F26 2013-01-03                        5                4   \n",
      "2  PR03  F5E3-48BB 2013-01-03                        3                4   \n",
      "3  PR04  0678-748A 2013-01-04                        5                3   \n",
      "4  PR05  541F-3E19 2013-01-04                        5                2   \n",
      "\n",
      "   RelationshipSatisfaction  TrainingOpportunitiesWithinYear  \\\n",
      "0                         5                                1   \n",
      "1                         4                                1   \n",
      "2                         5                                3   \n",
      "3                         2                                2   \n",
      "4                         3                                1   \n",
      "\n",
      "   TrainingOpportunitiesTaken  WorkLifeBalance  SelfRating  ManagerRating  \n",
      "0                           0                4           4              4  \n",
      "1                           3                4           4              3  \n",
      "2                           2                3           5              4  \n",
      "3                           0                2           3              2  \n",
      "4                           0                4           4              3  \n"
     ]
    }
   ],
   "source": [
    "\n",
    "performance_rating['Date'] = pd.to_datetime(performance_rating['Date'], format='%m/%d/%Y')\n",
    "\n",
    "\n",
    "print(performance_rating.head())\n"
   ]
  },
  {
   "cell_type": "code",
   "execution_count": 37,
   "id": "5bfff40f-c489-432c-9750-df8d2412f020",
   "metadata": {
    "scrolled": true
   },
   "outputs": [
    {
     "name": "stdout",
     "output_type": "stream",
     "text": [
      "       EmpID  First_Name Last_Name      Gender  Age BusinessTravel  \\\n",
      "0  3012-1A41    Leonelle     Simco      Female   30    Some Travel   \n",
      "1  CBCB-9C9D     Leonerd     Aland        Male   38    Some Travel   \n",
      "2  95D7-1CE9       Ahmed     Sykes        Male   43    Some Travel   \n",
      "3  47A0-559B  Ermentrude    Berrie  Non-Binary   39    Some Travel   \n",
      "4  42CC-040A       Stace    Savege      Female   29    Some Travel   \n",
      "\n",
      "        Department  DistanceFromHome (KM) State                Ethnicity  ...  \\\n",
      "0            Sales                     27    IL                    White  ...   \n",
      "1            Sales                     23    CA                    White  ...   \n",
      "2  Human Resources                     29    CA  Asian or Asian American  ...   \n",
      "3       Technology                     12    IL                    White  ...   \n",
      "4  Human Resources                     29    CA                    White  ...   \n",
      "\n",
      "   MaritalStatus  Salary StockOptionLevel OverTime    HireDate  Attrition  \\\n",
      "0       Divorced  102059                1       No  2012-01-03         No   \n",
      "1         Single  157718                0      Yes  2012-01-04         No   \n",
      "2        Married  309964                1       No  2012-01-04         No   \n",
      "3        Married  293132                0       No  2012-01-05         No   \n",
      "4         Single   49606                0       No  2012-01-05        Yes   \n",
      "\n",
      "  YearsAtCompany YearsInMostRecentRole YearsSinceLastPromotion  \\\n",
      "0             10                     4                       9   \n",
      "1             10                     6                      10   \n",
      "2             10                     6                      10   \n",
      "3             10                    10                      10   \n",
      "4              6                     1                       1   \n",
      "\n",
      "   YearsWithCurrManager  \n",
      "0                     7  \n",
      "1                     0  \n",
      "2                     8  \n",
      "3                     0  \n",
      "4                     6  \n",
      "\n",
      "[5 rows x 23 columns]\n"
     ]
    }
   ],
   "source": [
    "employee.rename(columns={\n",
    "    'EmployeeID': 'EmpID',\n",
    "    'FirstName': 'First_Name',\n",
    "    'LastName': 'Last_Name'\n",
    "}, inplace=True)\n",
    "print(employee.head())\n"
   ]
  },
  {
   "cell_type": "code",
   "execution_count": 38,
   "id": "301b07da-1b2f-423c-9c9b-5fb8bfe0aefa",
   "metadata": {
    "scrolled": true
   },
   "outputs": [
    {
     "name": "stdout",
     "output_type": "stream",
     "text": [
      "       EmpID  First_Name Last_Name      Gender  Age BusinessTravel  \\\n",
      "0  3012-1A41    Leonelle     Simco      Female   30    Some Travel   \n",
      "1  CBCB-9C9D     Leonerd     Aland        Male   38    Some Travel   \n",
      "2  95D7-1CE9       Ahmed     Sykes        Male   43    Some Travel   \n",
      "3  47A0-559B  Ermentrude    Berrie  Non-Binary   39    Some Travel   \n",
      "4  42CC-040A       Stace    Savege      Female   29    Some Travel   \n",
      "\n",
      "        Department  DistanceFromHome (KM) State                Ethnicity  ...  \\\n",
      "0            Sales                     27    IL                    White  ...   \n",
      "1            Sales                     23    CA                    White  ...   \n",
      "2  Human Resources                     29    CA  Asian or Asian American  ...   \n",
      "3       Technology                     12    IL                    White  ...   \n",
      "4  Human Resources                     29    CA                    White  ...   \n",
      "\n",
      "   MaritalStatus  Salary StockOptionLevel OverTime   HireDate  Attrition  \\\n",
      "0       Divorced  102059                1       No 2012-01-03         No   \n",
      "1         Single  157718                0      Yes 2012-01-04         No   \n",
      "2        Married  309964                1       No 2012-01-04         No   \n",
      "3        Married  293132                0       No 2012-01-05         No   \n",
      "4         Single   49606                0       No 2012-01-05        Yes   \n",
      "\n",
      "  YearsAtCompany YearsInMostRecentRole YearsSinceLastPromotion  \\\n",
      "0             10                     4                       9   \n",
      "1             10                     6                      10   \n",
      "2             10                     6                      10   \n",
      "3             10                    10                      10   \n",
      "4              6                     1                       1   \n",
      "\n",
      "   YearsWithCurrManager  \n",
      "0                     7  \n",
      "1                     0  \n",
      "2                     8  \n",
      "3                     0  \n",
      "4                     6  \n",
      "\n",
      "[5 rows x 23 columns]\n"
     ]
    }
   ],
   "source": [
    "\n",
    "employee['HireDate'] = pd.to_datetime(employee['HireDate'], format='%Y-%m-%d')\n",
    "print(employee.head())\n"
   ]
  },
  {
   "cell_type": "code",
   "execution_count": 39,
   "id": "a4fa0e54-ec75-4608-a26b-a587bcf6d4ca",
   "metadata": {
    "scrolled": true
   },
   "outputs": [
    {
     "name": "stdout",
     "output_type": "stream",
     "text": [
      "       EmpID  First_Name           Fullname Last_Name      Gender  Age  \\\n",
      "0  3012-1A41    LEONELLE     LEONELLE SIMCO     SIMCO      Female   30   \n",
      "1  CBCB-9C9D     LEONERD      LEONERD ALAND     ALAND        Male   38   \n",
      "2  95D7-1CE9       AHMED        AHMED SYKES     SYKES        Male   43   \n",
      "3  47A0-559B  ERMENTRUDE  ERMENTRUDE BERRIE    BERRIE  Non-Binary   39   \n",
      "4  42CC-040A       STACE       STACE SAVEGE    SAVEGE      Female   29   \n",
      "\n",
      "  BusinessTravel       Department  DistanceFromHome (KM) State  ...  \\\n",
      "0    Some Travel            Sales                     27    IL  ...   \n",
      "1    Some Travel            Sales                     23    CA  ...   \n",
      "2    Some Travel  Human Resources                     29    CA  ...   \n",
      "3    Some Travel       Technology                     12    IL  ...   \n",
      "4    Some Travel  Human Resources                     29    CA  ...   \n",
      "\n",
      "  MaritalStatus  Salary StockOptionLevel OverTime   HireDate  Attrition  \\\n",
      "0      Divorced  102059                1       No 2012-01-03         No   \n",
      "1        Single  157718                0      Yes 2012-01-04         No   \n",
      "2       Married  309964                1       No 2012-01-04         No   \n",
      "3       Married  293132                0       No 2012-01-05         No   \n",
      "4        Single   49606                0       No 2012-01-05        Yes   \n",
      "\n",
      "   YearsAtCompany YearsInMostRecentRole YearsSinceLastPromotion  \\\n",
      "0              10                     4                       9   \n",
      "1              10                     6                      10   \n",
      "2              10                     6                      10   \n",
      "3              10                    10                      10   \n",
      "4               6                     1                       1   \n",
      "\n",
      "  YearsWithCurrManager  \n",
      "0                    7  \n",
      "1                    0  \n",
      "2                    8  \n",
      "3                    0  \n",
      "4                    6  \n",
      "\n",
      "[5 rows x 24 columns]\n"
     ]
    }
   ],
   "source": [
    "\n",
    "employee['First_Name'] = employee['First_Name'].str.upper()\n",
    "employee['Last_Name'] = employee['Last_Name'].str.upper()\n",
    "\n",
    "\n",
    "employee.insert(2, 'Fullname', employee['First_Name'] + ' ' + employee['Last_Name'])\n",
    "\n",
    "print(employee.head())\n"
   ]
  },
  {
   "cell_type": "code",
   "execution_count": 40,
   "id": "2e16c84c-bee9-4944-9785-370678dd141f",
   "metadata": {},
   "outputs": [
    {
     "data": {
      "text/plain": [
       "0             SIMCO\n",
       "1             ALAND\n",
       "2             SYKES\n",
       "3            BERRIE\n",
       "4            SAVEGE\n",
       "           ...     \n",
       "1465      MELANAPHY\n",
       "1466         CALVER\n",
       "1467    MACDEARMONT\n",
       "1468            AGG\n",
       "1469        HEBBARD\n",
       "Name: Last_Name, Length: 1470, dtype: object"
      ]
     },
     "execution_count": 40,
     "metadata": {},
     "output_type": "execute_result"
    }
   ],
   "source": [
    "employee.pop('First_Name')    \n",
    "employee.pop('Last_Name')   "
   ]
  },
  {
   "cell_type": "code",
   "execution_count": 41,
   "id": "fea39a80-e6fb-45a0-9a6f-d3694ebd9481",
   "metadata": {},
   "outputs": [
    {
     "name": "stdout",
     "output_type": "stream",
     "text": [
      "   ID                     Level\n",
      "0   1  No Formal Qualifications\n",
      "1   2              High School \n",
      "2   3                Bachelors \n",
      "3   4                  Masters \n",
      "4   5                 Doctorate\n"
     ]
    }
   ],
   "source": [
    "education_level.rename(columns={\n",
    "    'EducationLevelID': 'ID',\n",
    "    'EducationLevel': 'Level'\n",
    "}, inplace=True)\n",
    "print(education_level.head())\n"
   ]
  },
  {
   "cell_type": "markdown",
   "id": "d538ce83-3e23-46ee-8bf5-4ec424825c78",
   "metadata": {},
   "source": [
    "## Extract files for csv"
   ]
  },
  {
   "cell_type": "code",
   "execution_count": 44,
   "id": "ff08c9a3-1a40-4d17-b12b-c76c1340771f",
   "metadata": {},
   "outputs": [],
   "source": [
    "satisfied_level.to_csv('satisfied_level.csv', index=False)\n"
   ]
  },
  {
   "cell_type": "code",
   "execution_count": 45,
   "id": "1411e3f4-6b24-41df-ac72-cc6af12ef250",
   "metadata": {},
   "outputs": [],
   "source": [
    "rating_level.to_csv('rating_level.csv', index=False)\n"
   ]
  },
  {
   "cell_type": "code",
   "execution_count": 53,
   "id": "0e356d29-353d-4875-902f-faa745c24bb7",
   "metadata": {},
   "outputs": [],
   "source": [
    "performance_rating.to_csv('performance_rating.csv', index=False)\n"
   ]
  },
  {
   "cell_type": "code",
   "execution_count": 48,
   "id": "8edd5f02-e798-4e39-af55-d4e726ba479f",
   "metadata": {},
   "outputs": [],
   "source": [
    "employee.to_csv('employee.csv', index=False)\n"
   ]
  },
  {
   "cell_type": "code",
   "execution_count": 47,
   "id": "831fb4dc-7f75-43f4-8c5f-6a7f64b08fff",
   "metadata": {},
   "outputs": [],
   "source": [
    "education_level.to_csv('education_level.csv', index=False)\n"
   ]
  },
  {
   "cell_type": "code",
   "execution_count": null,
   "id": "cf81e0d9-6987-431f-b39b-e763f155f2c0",
   "metadata": {},
   "outputs": [],
   "source": []
  },
  {
   "cell_type": "code",
   "execution_count": null,
   "id": "2a3b9f41-d6d6-481d-aafa-8d0da921bf79",
   "metadata": {},
   "outputs": [],
   "source": []
  }
 ],
 "metadata": {
  "kernelspec": {
   "display_name": "Python 3 (ipykernel)",
   "language": "python",
   "name": "python3"
  },
  "language_info": {
   "codemirror_mode": {
    "name": "ipython",
    "version": 3
   },
   "file_extension": ".py",
   "mimetype": "text/x-python",
   "name": "python",
   "nbconvert_exporter": "python",
   "pygments_lexer": "ipython3",
   "version": "3.12.4"
  }
 },
 "nbformat": 4,
 "nbformat_minor": 5
}
