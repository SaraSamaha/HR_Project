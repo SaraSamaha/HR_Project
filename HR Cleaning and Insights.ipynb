{
 "cells": [
  {
   "cell_type": "markdown",
   "id": "f77563de-20a5-4992-a60a-83d06900231a",
   "metadata": {},
   "source": [
    "# table of contents\n",
    "* [1 Dataset description](#Mark_down_features)\n",
    "* [2 Import necessary libraries](#Mark_down_features)\n",
    "* [3.Upload CSV file ](#Mark_down_features)\n",
    "* [4 Understand Data ](#Mark_down_features)\n",
    "* [5 Data Cleaning ](#Mark_down_features)\n",
    "* [6 Data Analysis ](#Mark_down_features)\n",
    "* [7 Visulization](#Mark_down_features)\n"
   ]
  },
  {
   "cell_type": "markdown",
   "id": "59b27920-8306-4cdc-9f77-c7be185f8ec6",
   "metadata": {},
   "source": [
    "# [data link](https://mcitegypt-my.sharepoint.com/:u:/r/personal/yasfahmy_debi_gov_eg/Documents/DEGI/DEPI%20Projects/Round%201/BA/Datasets.zip?csf=1&web=1&e=gIqAlT)"
   ]
  },
  {
   "cell_type": "markdown",
   "id": "c2bc0be6-67b5-41f3-9604-79c5b4791703",
   "metadata": {},
   "source": [
    "#  Dataset Description\n",
    "\n",
    "| Column Name                     | Description                                                                 |\n",
    "|---------------------------------|-----------------------------------------------------------------------------|\n",
    "| SatisfactionID                  | This is typically a unique identifier for each record in the dataset. It helps in distinguishing between different entries or responses. |\n",
    "| SatisfactionLevel               | This column describes the level of satisfaction. It usually contains categorical data representing different levels of satisfaction, such as “Very Dissatisfied,” “Dissatisfied,” “Neutral,” “Satisfied,” and “Very Satisfied.” |\n",
    "| RatingID                        | This is usually a unique identifier for each rating entry in the dataset. It helps in distinguishing between different ratings or evaluations. |\n",
    "| RatingLevel                     | This column describes the level or score of the rating. It often contains categorical or numerical data representing different levels of performance, satisfaction, or other metrics. |\n",
    "| PerformanceID                   | A unique identifier for each performance review record. |\n",
    "| EmployeeID                      | A unique identifier for each employee. |\n",
    "| JobSatisfaction                 | A measure of how satisfied the employee is with their job. |\n",
    "| EnvironmentSatisfaction         | A measure of how satisfied the employee is with their work environment. |\n",
    "| RelationshipSatisfaction        | A measure of how satisfied the employee is with their relationships at work, such as with colleagues and supervisors. |\n",
    "| TrainingOpportunitiesWithinYear | The number of training opportunities available to the employee within a year. |\n",
    "| TrainingOpportunitiesTaken      | The number of training opportunities the employee has taken within a year. |\n",
    "| WorkLifeBalance                 | A measure of how well the employee feels they can balance their work and personal life. |\n",
    "| SelfRating                      | The employee’s self-assessment rating. |\n",
    "| ManagerRating                   | The rating given by the employee’s manager. |\n",
    "| FirstName                       | The first name of the employee. |\n",
    "| LastName                        | The last name of the employee. |\n",
    "| Gender                          | The gender of the employee. |\n",
    "| Age                             | The age of the employee. |\n",
    "| BusinessTravel                  | The frequency of business travel for the employee. |\n",
    "| Department                      | The department in which the employee works. |\n",
    "| DistanceFromHome (KM)           | The distance from the employee’s home to the workplace, measured in kilometers. |\n",
    "| State                           | The state where the employee is located. |\n",
    "| Ethnicity                       | The ethnic background of the employee. |\n",
    "| Education                       | The education level of the employee (e.g., High School, Bachelor’s, Master’s). |\n",
    "| EducationField                  | The field of study for the employee’s highest level of education. |\n",
    "| JobRole                         | The specific role or job title of the employee. |\n",
    "| MaritalStatus                   | The marital status of the employee. |\n",
    "| Salary                          | The salary of the employee. |\n",
    "| StockOptionLevel                | The level of stock options granted to the employee. |\n",
    "| OverTime                        | Indicates whether the employee works overtime (Yes/No). |\n",
    "| HireDate                        | The date when the employee was hired. |\n",
    "| Attrition                       | Indicates whether the employee has left the company (Yes/No). |\n",
    "| YearsAtCompany                  | The number of years the employee has been with the company. |\n",
    "| YearsInMostRecentRole           | The number of years the employee has been in their most recent role. |\n",
    "| YearsSinceLastPromotion         | The number of years since the employee’s last promotion. |\n",
    "| YearsWithCurrManager            | The number of years the employee has worked with their current manager. |\n",
    "| EducationLevelID                | This is usually a unique identifier for each education level. |\n",
    "| EducationLevel                  | The specific level of education. It often contains categorical data representing different stages of education, such as “High School,” “Bachelor’s,” “Master’s,” “Doctorate.” |\n"
   ]
  },
  {
   "cell_type": "markdown",
   "id": "f1e09965-6c4e-4dcb-a09f-794388273ba0",
   "metadata": {},
   "source": [
    "## 2.Import necessary libraries"
   ]
  },
  {
   "cell_type": "code",
   "execution_count": 135,
   "id": "a9f39978-bcb6-46e2-b402-098dc64be8f4",
   "metadata": {},
   "outputs": [],
   "source": [
    "import pandas as pd \n",
    "import numpy as np \n",
    "import seaborn as sns\n",
    "import matplotlib as plt\n",
    "import re\n",
    "import matplotlib.pyplot as plt"
   ]
  },
  {
   "cell_type": "markdown",
   "id": "70cdbcb1-e6f8-436a-b547-86858b47334c",
   "metadata": {},
   "source": [
    "## 3.Upload CSV files"
   ]
  },
  {
   "cell_type": "code",
   "execution_count": 6,
   "id": "eee155ee-5571-4af3-90ea-fb0e7b7a4b3c",
   "metadata": {},
   "outputs": [],
   "source": [
    "satisfied_level = pd.read_csv(r'D:\\Final Project\\SatisfiedLevel.csv')\n",
    "rating_level = pd.read_csv(r'D:\\Final Project\\RatingLevel.csv')\n",
    "performance_rating = pd.read_csv(r'D:\\Final Project\\PerformanceRating.csv')\n",
    "employee = pd.read_csv(r'D:\\Final Project\\Employee.csv')\n",
    "education_level = pd.read_csv(r'D:\\Final Project\\EducationLevel.csv')"
   ]
  },
  {
   "cell_type": "markdown",
   "id": "2e63eba7-f586-4400-92ed-f1251bea98a0",
   "metadata": {},
   "source": [
    "## 4. Understanding Data "
   ]
  },
  {
   "cell_type": "markdown",
   "id": "992dc1c2-9370-464a-ba38-1ce9a1118a9b",
   "metadata": {},
   "source": [
    "### 1. Understanding Data [satisfied_level]"
   ]
  },
  {
   "cell_type": "code",
   "execution_count": 8,
   "id": "fe844181-b2ca-4eb2-97d4-233640caacf3",
   "metadata": {},
   "outputs": [
    {
     "name": "stdout",
     "output_type": "stream",
     "text": [
      "<class 'pandas.core.frame.DataFrame'>\n",
      "RangeIndex: 5 entries, 0 to 4\n",
      "Data columns (total 2 columns):\n",
      " #   Column             Non-Null Count  Dtype \n",
      "---  ------             --------------  ----- \n",
      " 0   SatisfactionID     5 non-null      int64 \n",
      " 1   SatisfactionLevel  5 non-null      object\n",
      "dtypes: int64(1), object(1)\n",
      "memory usage: 212.0+ bytes\n"
     ]
    }
   ],
   "source": [
    "satisfied_level.info()"
   ]
  },
  {
   "cell_type": "code",
   "execution_count": 10,
   "id": "0bd817aa-547a-4ac3-a5ae-667d69835644",
   "metadata": {},
   "outputs": [
    {
     "data": {
      "text/plain": [
       "(5, 2)"
      ]
     },
     "execution_count": 10,
     "metadata": {},
     "output_type": "execute_result"
    }
   ],
   "source": [
    "satisfied_level.shape"
   ]
  },
  {
   "cell_type": "code",
   "execution_count": 12,
   "id": "efad5869-071f-475b-a4e7-6f17a6051373",
   "metadata": {},
   "outputs": [
    {
     "data": {
      "text/plain": [
       "SatisfactionID        int64\n",
       "SatisfactionLevel    object\n",
       "dtype: object"
      ]
     },
     "execution_count": 12,
     "metadata": {},
     "output_type": "execute_result"
    }
   ],
   "source": [
    "satisfied_level.dtypes"
   ]
  },
  {
   "cell_type": "code",
   "execution_count": 14,
   "id": "3f84b5ae-bd07-4476-8641-19551d5ec146",
   "metadata": {},
   "outputs": [
    {
     "data": {
      "text/plain": [
       "0    False\n",
       "1    False\n",
       "2    False\n",
       "3    False\n",
       "4    False\n",
       "dtype: bool"
      ]
     },
     "execution_count": 14,
     "metadata": {},
     "output_type": "execute_result"
    }
   ],
   "source": [
    "satisfied_level.duplicated()"
   ]
  },
  {
   "cell_type": "code",
   "execution_count": 16,
   "id": "f9ecd590-39c0-48b2-bce8-3ce2d610ac79",
   "metadata": {},
   "outputs": [
    {
     "data": {
      "text/plain": [
       "SatisfactionID       0\n",
       "SatisfactionLevel    0\n",
       "dtype: int64"
      ]
     },
     "execution_count": 16,
     "metadata": {},
     "output_type": "execute_result"
    }
   ],
   "source": [
    "satisfied_level.isnull().sum()"
   ]
  },
  {
   "cell_type": "markdown",
   "id": "a1b8c4a3-27a5-48ec-abe1-65afca0c4000",
   "metadata": {},
   "source": [
    "### 2. Understanding Data [rating_level]"
   ]
  },
  {
   "cell_type": "code",
   "execution_count": 18,
   "id": "b93fc7a7-0dc5-41bd-98dc-8471f0235916",
   "metadata": {},
   "outputs": [
    {
     "name": "stdout",
     "output_type": "stream",
     "text": [
      "<class 'pandas.core.frame.DataFrame'>\n",
      "RangeIndex: 5 entries, 0 to 4\n",
      "Data columns (total 2 columns):\n",
      " #   Column       Non-Null Count  Dtype \n",
      "---  ------       --------------  ----- \n",
      " 0   RatingID     5 non-null      int64 \n",
      " 1   RatingLevel  5 non-null      object\n",
      "dtypes: int64(1), object(1)\n",
      "memory usage: 212.0+ bytes\n"
     ]
    }
   ],
   "source": [
    "rating_level.info()"
   ]
  },
  {
   "cell_type": "code",
   "execution_count": 20,
   "id": "e0ed8a2a-f57b-4b3a-bb7d-fececa081c82",
   "metadata": {},
   "outputs": [
    {
     "data": {
      "text/plain": [
       "(5, 2)"
      ]
     },
     "execution_count": 20,
     "metadata": {},
     "output_type": "execute_result"
    }
   ],
   "source": [
    "rating_level.shape"
   ]
  },
  {
   "cell_type": "code",
   "execution_count": 22,
   "id": "80bb23d4-5015-46b3-99e5-6c721d5c29a1",
   "metadata": {},
   "outputs": [
    {
     "data": {
      "text/plain": [
       "RatingID        int64\n",
       "RatingLevel    object\n",
       "dtype: object"
      ]
     },
     "execution_count": 22,
     "metadata": {},
     "output_type": "execute_result"
    }
   ],
   "source": [
    "rating_level.dtypes"
   ]
  },
  {
   "cell_type": "code",
   "execution_count": 24,
   "id": "276ac8c0-7f7a-4659-9c2a-cae20c8396fa",
   "metadata": {},
   "outputs": [
    {
     "data": {
      "text/plain": [
       "0    False\n",
       "1    False\n",
       "2    False\n",
       "3    False\n",
       "4    False\n",
       "dtype: bool"
      ]
     },
     "execution_count": 24,
     "metadata": {},
     "output_type": "execute_result"
    }
   ],
   "source": [
    "rating_level.duplicated()"
   ]
  },
  {
   "cell_type": "code",
   "execution_count": 26,
   "id": "983cf39a-bb16-4dfd-97a3-3718ae5be432",
   "metadata": {},
   "outputs": [
    {
     "data": {
      "text/plain": [
       "RatingID       0\n",
       "RatingLevel    0\n",
       "dtype: int64"
      ]
     },
     "execution_count": 26,
     "metadata": {},
     "output_type": "execute_result"
    }
   ],
   "source": [
    "rating_level.isnull().sum()\n"
   ]
  },
  {
   "cell_type": "markdown",
   "id": "b9d5c772-d7e3-4d55-a125-a90dccd07486",
   "metadata": {},
   "source": [
    "### 3. Understanding Data [performance_rating]"
   ]
  },
  {
   "cell_type": "code",
   "execution_count": 28,
   "id": "d09ba60b-80f8-459e-8bfc-779f820d399c",
   "metadata": {},
   "outputs": [
    {
     "name": "stdout",
     "output_type": "stream",
     "text": [
      "<class 'pandas.core.frame.DataFrame'>\n",
      "RangeIndex: 6709 entries, 0 to 6708\n",
      "Data columns (total 11 columns):\n",
      " #   Column                           Non-Null Count  Dtype \n",
      "---  ------                           --------------  ----- \n",
      " 0   PerformanceID                    6709 non-null   object\n",
      " 1   EmployeeID                       6709 non-null   object\n",
      " 2   ReviewDate                       6709 non-null   object\n",
      " 3   EnvironmentSatisfaction          6709 non-null   int64 \n",
      " 4   JobSatisfaction                  6709 non-null   int64 \n",
      " 5   RelationshipSatisfaction         6709 non-null   int64 \n",
      " 6   TrainingOpportunitiesWithinYear  6709 non-null   int64 \n",
      " 7   TrainingOpportunitiesTaken       6709 non-null   int64 \n",
      " 8   WorkLifeBalance                  6709 non-null   int64 \n",
      " 9   SelfRating                       6709 non-null   int64 \n",
      " 10  ManagerRating                    6709 non-null   int64 \n",
      "dtypes: int64(8), object(3)\n",
      "memory usage: 576.7+ KB\n"
     ]
    }
   ],
   "source": [
    "performance_rating.info()"
   ]
  },
  {
   "cell_type": "code",
   "execution_count": 30,
   "id": "fb2535e9-78c5-463a-a044-1a9b4da6c757",
   "metadata": {},
   "outputs": [
    {
     "data": {
      "text/plain": [
       "(6709, 11)"
      ]
     },
     "execution_count": 30,
     "metadata": {},
     "output_type": "execute_result"
    }
   ],
   "source": [
    "performance_rating.shape"
   ]
  },
  {
   "cell_type": "code",
   "execution_count": 32,
   "id": "27743efb-a499-4b83-9443-0b6d1f2df623",
   "metadata": {},
   "outputs": [
    {
     "data": {
      "text/plain": [
       "PerformanceID                      object\n",
       "EmployeeID                         object\n",
       "ReviewDate                         object\n",
       "EnvironmentSatisfaction             int64\n",
       "JobSatisfaction                     int64\n",
       "RelationshipSatisfaction            int64\n",
       "TrainingOpportunitiesWithinYear     int64\n",
       "TrainingOpportunitiesTaken          int64\n",
       "WorkLifeBalance                     int64\n",
       "SelfRating                          int64\n",
       "ManagerRating                       int64\n",
       "dtype: object"
      ]
     },
     "execution_count": 32,
     "metadata": {},
     "output_type": "execute_result"
    }
   ],
   "source": [
    "performance_rating.dtypes"
   ]
  },
  {
   "cell_type": "code",
   "execution_count": 34,
   "id": "697c87c1-0fe2-4560-a2bc-0f9b61c9e1e5",
   "metadata": {},
   "outputs": [
    {
     "data": {
      "text/plain": [
       "0       False\n",
       "1       False\n",
       "2       False\n",
       "3       False\n",
       "4       False\n",
       "        ...  \n",
       "6704    False\n",
       "6705    False\n",
       "6706    False\n",
       "6707    False\n",
       "6708    False\n",
       "Length: 6709, dtype: bool"
      ]
     },
     "execution_count": 34,
     "metadata": {},
     "output_type": "execute_result"
    }
   ],
   "source": [
    "performance_rating.duplicated()"
   ]
  },
  {
   "cell_type": "code",
   "execution_count": 36,
   "id": "2ddefc74-bbc0-4e2d-a31e-68fe836007ce",
   "metadata": {},
   "outputs": [
    {
     "data": {
      "text/plain": [
       "PerformanceID                      0\n",
       "EmployeeID                         0\n",
       "ReviewDate                         0\n",
       "EnvironmentSatisfaction            0\n",
       "JobSatisfaction                    0\n",
       "RelationshipSatisfaction           0\n",
       "TrainingOpportunitiesWithinYear    0\n",
       "TrainingOpportunitiesTaken         0\n",
       "WorkLifeBalance                    0\n",
       "SelfRating                         0\n",
       "ManagerRating                      0\n",
       "dtype: int64"
      ]
     },
     "execution_count": 36,
     "metadata": {},
     "output_type": "execute_result"
    }
   ],
   "source": [
    "performance_rating.isnull().sum()"
   ]
  },
  {
   "cell_type": "markdown",
   "id": "55b09674-e845-4533-8347-81c0aafedccf",
   "metadata": {},
   "source": [
    "### 4. Understanding Data [employee]"
   ]
  },
  {
   "cell_type": "code",
   "execution_count": 38,
   "id": "1341b948-3326-42b1-86d1-5367a05ec381",
   "metadata": {
    "scrolled": true
   },
   "outputs": [
    {
     "name": "stdout",
     "output_type": "stream",
     "text": [
      "<class 'pandas.core.frame.DataFrame'>\n",
      "RangeIndex: 1470 entries, 0 to 1469\n",
      "Data columns (total 23 columns):\n",
      " #   Column                   Non-Null Count  Dtype \n",
      "---  ------                   --------------  ----- \n",
      " 0   EmployeeID               1470 non-null   object\n",
      " 1   FirstName                1470 non-null   object\n",
      " 2   LastName                 1470 non-null   object\n",
      " 3   Gender                   1470 non-null   object\n",
      " 4   Age                      1470 non-null   int64 \n",
      " 5   BusinessTravel           1470 non-null   object\n",
      " 6   Department               1470 non-null   object\n",
      " 7   DistanceFromHome (KM)    1470 non-null   int64 \n",
      " 8   State                    1470 non-null   object\n",
      " 9   Ethnicity                1470 non-null   object\n",
      " 10  Education                1470 non-null   int64 \n",
      " 11  EducationField           1470 non-null   object\n",
      " 12  JobRole                  1470 non-null   object\n",
      " 13  MaritalStatus            1470 non-null   object\n",
      " 14  Salary                   1470 non-null   int64 \n",
      " 15  StockOptionLevel         1470 non-null   int64 \n",
      " 16  OverTime                 1470 non-null   object\n",
      " 17  HireDate                 1470 non-null   object\n",
      " 18  Attrition                1470 non-null   object\n",
      " 19  YearsAtCompany           1470 non-null   int64 \n",
      " 20  YearsInMostRecentRole    1470 non-null   int64 \n",
      " 21  YearsSinceLastPromotion  1470 non-null   int64 \n",
      " 22  YearsWithCurrManager     1470 non-null   int64 \n",
      "dtypes: int64(9), object(14)\n",
      "memory usage: 264.3+ KB\n"
     ]
    }
   ],
   "source": [
    "employee.info()"
   ]
  },
  {
   "cell_type": "code",
   "execution_count": 40,
   "id": "539f9140-17ec-43a2-b8cd-c1629cf8e9a2",
   "metadata": {},
   "outputs": [
    {
     "data": {
      "text/plain": [
       "(1470, 23)"
      ]
     },
     "execution_count": 40,
     "metadata": {},
     "output_type": "execute_result"
    }
   ],
   "source": [
    "employee.shape"
   ]
  },
  {
   "cell_type": "code",
   "execution_count": 42,
   "id": "ba5d61ba-c290-4196-a8c9-a28e1f14adfa",
   "metadata": {
    "scrolled": true
   },
   "outputs": [
    {
     "data": {
      "text/plain": [
       "EmployeeID                 object\n",
       "FirstName                  object\n",
       "LastName                   object\n",
       "Gender                     object\n",
       "Age                         int64\n",
       "BusinessTravel             object\n",
       "Department                 object\n",
       "DistanceFromHome (KM)       int64\n",
       "State                      object\n",
       "Ethnicity                  object\n",
       "Education                   int64\n",
       "EducationField             object\n",
       "JobRole                    object\n",
       "MaritalStatus              object\n",
       "Salary                      int64\n",
       "StockOptionLevel            int64\n",
       "OverTime                   object\n",
       "HireDate                   object\n",
       "Attrition                  object\n",
       "YearsAtCompany              int64\n",
       "YearsInMostRecentRole       int64\n",
       "YearsSinceLastPromotion     int64\n",
       "YearsWithCurrManager        int64\n",
       "dtype: object"
      ]
     },
     "execution_count": 42,
     "metadata": {},
     "output_type": "execute_result"
    }
   ],
   "source": [
    "employee.dtypes"
   ]
  },
  {
   "cell_type": "code",
   "execution_count": 26,
   "id": "59ec36cf-d16c-40c5-90b3-2dcbe8ebe0b8",
   "metadata": {},
   "outputs": [
    {
     "data": {
      "text/plain": [
       "0       False\n",
       "1       False\n",
       "2       False\n",
       "3       False\n",
       "4       False\n",
       "        ...  \n",
       "1465    False\n",
       "1466    False\n",
       "1467    False\n",
       "1468    False\n",
       "1469    False\n",
       "Length: 1470, dtype: bool"
      ]
     },
     "execution_count": 26,
     "metadata": {},
     "output_type": "execute_result"
    }
   ],
   "source": [
    "employee.duplicated()"
   ]
  },
  {
   "cell_type": "code",
   "execution_count": 44,
   "id": "f9fc116a-d5ce-45ba-9d67-650448eae1b9",
   "metadata": {
    "scrolled": true
   },
   "outputs": [
    {
     "data": {
      "text/plain": [
       "EmployeeID                 0\n",
       "FirstName                  0\n",
       "LastName                   0\n",
       "Gender                     0\n",
       "Age                        0\n",
       "BusinessTravel             0\n",
       "Department                 0\n",
       "DistanceFromHome (KM)      0\n",
       "State                      0\n",
       "Ethnicity                  0\n",
       "Education                  0\n",
       "EducationField             0\n",
       "JobRole                    0\n",
       "MaritalStatus              0\n",
       "Salary                     0\n",
       "StockOptionLevel           0\n",
       "OverTime                   0\n",
       "HireDate                   0\n",
       "Attrition                  0\n",
       "YearsAtCompany             0\n",
       "YearsInMostRecentRole      0\n",
       "YearsSinceLastPromotion    0\n",
       "YearsWithCurrManager       0\n",
       "dtype: int64"
      ]
     },
     "execution_count": 44,
     "metadata": {},
     "output_type": "execute_result"
    }
   ],
   "source": [
    "employee.isnull().sum()\n"
   ]
  },
  {
   "cell_type": "markdown",
   "id": "c9f628f6-83ce-41ad-ae52-bc621521a5d5",
   "metadata": {},
   "source": [
    "### 5. Understanding Data [education_level]"
   ]
  },
  {
   "cell_type": "code",
   "execution_count": 46,
   "id": "6fe0e2e2-3d0d-4d30-93a8-4c2eee96d39a",
   "metadata": {},
   "outputs": [
    {
     "name": "stdout",
     "output_type": "stream",
     "text": [
      "<class 'pandas.core.frame.DataFrame'>\n",
      "RangeIndex: 5 entries, 0 to 4\n",
      "Data columns (total 2 columns):\n",
      " #   Column            Non-Null Count  Dtype \n",
      "---  ------            --------------  ----- \n",
      " 0   EducationLevelID  5 non-null      int64 \n",
      " 1   EducationLevel    5 non-null      object\n",
      "dtypes: int64(1), object(1)\n",
      "memory usage: 212.0+ bytes\n"
     ]
    }
   ],
   "source": [
    "education_level.info()"
   ]
  },
  {
   "cell_type": "code",
   "execution_count": 48,
   "id": "7329882c-bb61-472a-aeb4-c7309dd7397d",
   "metadata": {},
   "outputs": [
    {
     "data": {
      "text/plain": [
       "(5, 2)"
      ]
     },
     "execution_count": 48,
     "metadata": {},
     "output_type": "execute_result"
    }
   ],
   "source": [
    "education_level.shape"
   ]
  },
  {
   "cell_type": "code",
   "execution_count": 50,
   "id": "332ce80c-9bd2-469e-90a6-b404434400cc",
   "metadata": {},
   "outputs": [
    {
     "data": {
      "text/plain": [
       "EducationLevelID     int64\n",
       "EducationLevel      object\n",
       "dtype: object"
      ]
     },
     "execution_count": 50,
     "metadata": {},
     "output_type": "execute_result"
    }
   ],
   "source": [
    "education_level.dtypes"
   ]
  },
  {
   "cell_type": "code",
   "execution_count": 52,
   "id": "5685fb27-c928-41be-b23d-1a235a228bb1",
   "metadata": {},
   "outputs": [
    {
     "data": {
      "text/plain": [
       "0    False\n",
       "1    False\n",
       "2    False\n",
       "3    False\n",
       "4    False\n",
       "dtype: bool"
      ]
     },
     "execution_count": 52,
     "metadata": {},
     "output_type": "execute_result"
    }
   ],
   "source": [
    "education_level.duplicated()\n"
   ]
  },
  {
   "cell_type": "code",
   "execution_count": 54,
   "id": "0d4855b5-034b-4827-bebb-589408dd8e68",
   "metadata": {},
   "outputs": [
    {
     "data": {
      "text/plain": [
       "EducationLevelID    0\n",
       "EducationLevel      0\n",
       "dtype: int64"
      ]
     },
     "execution_count": 54,
     "metadata": {},
     "output_type": "execute_result"
    }
   ],
   "source": [
    "education_level.isnull().sum()\n"
   ]
  },
  {
   "cell_type": "markdown",
   "id": "9d58e65c-0643-4fc5-a4b8-daf702a5a841",
   "metadata": {},
   "source": [
    "## 5.Data Cleaning"
   ]
  },
  {
   "cell_type": "code",
   "execution_count": 56,
   "id": "30161371-34d6-438e-a96d-a208e47f0d77",
   "metadata": {},
   "outputs": [
    {
     "data": {
      "text/html": [
       "<div>\n",
       "<style scoped>\n",
       "    .dataframe tbody tr th:only-of-type {\n",
       "        vertical-align: middle;\n",
       "    }\n",
       "\n",
       "    .dataframe tbody tr th {\n",
       "        vertical-align: top;\n",
       "    }\n",
       "\n",
       "    .dataframe thead th {\n",
       "        text-align: right;\n",
       "    }\n",
       "</style>\n",
       "<table border=\"1\" class=\"dataframe\">\n",
       "  <thead>\n",
       "    <tr style=\"text-align: right;\">\n",
       "      <th></th>\n",
       "      <th>ID</th>\n",
       "      <th>Level</th>\n",
       "    </tr>\n",
       "  </thead>\n",
       "  <tbody>\n",
       "    <tr>\n",
       "      <th>0</th>\n",
       "      <td>1</td>\n",
       "      <td>Very Dissatisfied</td>\n",
       "    </tr>\n",
       "    <tr>\n",
       "      <th>1</th>\n",
       "      <td>2</td>\n",
       "      <td>Dissatisfied</td>\n",
       "    </tr>\n",
       "    <tr>\n",
       "      <th>2</th>\n",
       "      <td>3</td>\n",
       "      <td>Neutral</td>\n",
       "    </tr>\n",
       "    <tr>\n",
       "      <th>3</th>\n",
       "      <td>4</td>\n",
       "      <td>Satisfied</td>\n",
       "    </tr>\n",
       "    <tr>\n",
       "      <th>4</th>\n",
       "      <td>5</td>\n",
       "      <td>Very Satisfied</td>\n",
       "    </tr>\n",
       "  </tbody>\n",
       "</table>\n",
       "</div>"
      ],
      "text/plain": [
       "   ID              Level\n",
       "0   1  Very Dissatisfied\n",
       "1   2       Dissatisfied\n",
       "2   3            Neutral\n",
       "3   4         Satisfied \n",
       "4   5     Very Satisfied"
      ]
     },
     "execution_count": 56,
     "metadata": {},
     "output_type": "execute_result"
    }
   ],
   "source": [
    "satisfied_level.rename(columns={\n",
    "    'SatisfactionID': 'ID',\n",
    "    'SatisfactionLevel': 'Level'\n",
    "}, inplace=True)\n",
    "\n",
    "satisfied_level.head()\n"
   ]
  },
  {
   "cell_type": "code",
   "execution_count": 58,
   "id": "0da08e2a-3b09-417a-b1ae-8e86a5735aca",
   "metadata": {},
   "outputs": [
    {
     "name": "stdout",
     "output_type": "stream",
     "text": [
      "   ID                 Level\n",
      "0   1          Unacceptable\n",
      "1   2     Needs Improvement\n",
      "2   3     Meets Expectation\n",
      "3   4  Exceeds Expectation \n",
      "4   5      Above and Beyond\n"
     ]
    }
   ],
   "source": [
    "rating_level.rename(columns={\n",
    "    'RatingID': 'ID',\n",
    "    'RatingLevel': 'Level'\n",
    "}, inplace=True)\n",
    "\n",
    "print(rating_level.head())\n"
   ]
  },
  {
   "cell_type": "code",
   "execution_count": 35,
   "id": "8479b061-e5f8-4d58-b79a-49d39bf259ed",
   "metadata": {},
   "outputs": [
    {
     "name": "stdout",
     "output_type": "stream",
     "text": [
      "     ID      EmpID      Date  EnvironmentSatisfaction  JobSatisfaction  \\\n",
      "0  PR01  79F7-78EC  1/2/2013                        5                4   \n",
      "1  PR02  B61E-0F26  1/3/2013                        5                4   \n",
      "2  PR03  F5E3-48BB  1/3/2013                        3                4   \n",
      "3  PR04  0678-748A  1/4/2013                        5                3   \n",
      "4  PR05  541F-3E19  1/4/2013                        5                2   \n",
      "\n",
      "   RelationshipSatisfaction  TrainingOpportunitiesWithinYear  \\\n",
      "0                         5                                1   \n",
      "1                         4                                1   \n",
      "2                         5                                3   \n",
      "3                         2                                2   \n",
      "4                         3                                1   \n",
      "\n",
      "   TrainingOpportunitiesTaken  WorkLifeBalance  SelfRating  ManagerRating  \n",
      "0                           0                4           4              4  \n",
      "1                           3                4           4              3  \n",
      "2                           2                3           5              4  \n",
      "3                           0                2           3              2  \n",
      "4                           0                4           4              3  \n"
     ]
    }
   ],
   "source": [
    "performance_rating.rename(columns={\n",
    "    'PerformanceID': 'ID',\n",
    "    'EmployeeID': 'EmpID',\n",
    "    'ReviewDate': 'Date',\n",
    "  \n",
    "}, inplace=True)\n",
    "\n",
    "print(performance_rating.head())\n"
   ]
  },
  {
   "cell_type": "code",
   "execution_count": 2,
   "id": "24e6fb11-e8f2-4bb7-babd-88f0b48b8fdd",
   "metadata": {
    "scrolled": true
   },
   "outputs": [
    {
     "ename": "NameError",
     "evalue": "name 'performance_rating' is not defined",
     "output_type": "error",
     "traceback": [
      "\u001b[1;31m---------------------------------------------------------------------------\u001b[0m",
      "\u001b[1;31mNameError\u001b[0m                                 Traceback (most recent call last)",
      "Cell \u001b[1;32mIn[2], line 1\u001b[0m\n\u001b[1;32m----> 1\u001b[0m performance_rating[\u001b[38;5;124m'\u001b[39m\u001b[38;5;124mID\u001b[39m\u001b[38;5;124m'\u001b[39m] \u001b[38;5;241m=\u001b[39m performance_rating[\u001b[38;5;124m'\u001b[39m\u001b[38;5;124mID\u001b[39m\u001b[38;5;124m'\u001b[39m]\u001b[38;5;241m.\u001b[39mstr\u001b[38;5;241m.\u001b[39mreplace(\u001b[38;5;124m'\u001b[39m\u001b[38;5;124mPR\u001b[39m\u001b[38;5;124m'\u001b[39m, \u001b[38;5;124m'\u001b[39m\u001b[38;5;124m'\u001b[39m)\n\u001b[0;32m      3\u001b[0m \u001b[38;5;66;03m# Check the DataFrame\u001b[39;00m\n\u001b[0;32m      4\u001b[0m \u001b[38;5;28mprint\u001b[39m(performance_rating\u001b[38;5;241m.\u001b[39mhead())\n",
      "\u001b[1;31mNameError\u001b[0m: name 'performance_rating' is not defined"
     ]
    }
   ],
   "source": [
    "\n",
    "\n",
    "performance_rating['ID'] = performance_rating['ID'].str.replace('PR', '')\n",
    "\n",
    "# Check the DataFrame\n",
    "print(performance_rating.head())\n"
   ]
  },
  {
   "cell_type": "code",
   "execution_count": null,
   "id": "07a236fa-d25e-40b8-a224-d9356c1eafcc",
   "metadata": {},
   "outputs": [],
   "source": [
    "\n",
    "performance_rating['Date'] = pd.to_datetime(performance_rating['Date'], format='%m/%d/%Y')\n",
    "\n",
    "\n",
    "print(performance_rating.head())\n"
   ]
  },
  {
   "cell_type": "code",
   "execution_count": 65,
   "id": "5bfff40f-c489-432c-9750-df8d2412f020",
   "metadata": {
    "scrolled": true
   },
   "outputs": [
    {
     "name": "stdout",
     "output_type": "stream",
     "text": [
      "       EmpID  First_Name Last_Name      Gender  Age BusinessTravel  \\\n",
      "0  3012-1A41    Leonelle     Simco      Female   30    Some Travel   \n",
      "1  CBCB-9C9D     Leonerd     Aland        Male   38    Some Travel   \n",
      "2  95D7-1CE9       Ahmed     Sykes        Male   43    Some Travel   \n",
      "3  47A0-559B  Ermentrude    Berrie  Non-Binary   39    Some Travel   \n",
      "4  42CC-040A       Stace    Savege      Female   29    Some Travel   \n",
      "\n",
      "        Department  DistanceFromHome (KM) State                Ethnicity  ...  \\\n",
      "0            Sales                     27    IL                    White  ...   \n",
      "1            Sales                     23    CA                    White  ...   \n",
      "2  Human Resources                     29    CA  Asian or Asian American  ...   \n",
      "3       Technology                     12    IL                    White  ...   \n",
      "4  Human Resources                     29    CA                    White  ...   \n",
      "\n",
      "   MaritalStatus  Salary StockOptionLevel OverTime    HireDate  Attrition  \\\n",
      "0       Divorced  102059                1       No  2012-01-03         No   \n",
      "1         Single  157718                0      Yes  2012-01-04         No   \n",
      "2        Married  309964                1       No  2012-01-04         No   \n",
      "3        Married  293132                0       No  2012-01-05         No   \n",
      "4         Single   49606                0       No  2012-01-05        Yes   \n",
      "\n",
      "  YearsAtCompany YearsInMostRecentRole YearsSinceLastPromotion  \\\n",
      "0             10                     4                       9   \n",
      "1             10                     6                      10   \n",
      "2             10                     6                      10   \n",
      "3             10                    10                      10   \n",
      "4              6                     1                       1   \n",
      "\n",
      "   YearsWithCurrManager  \n",
      "0                     7  \n",
      "1                     0  \n",
      "2                     8  \n",
      "3                     0  \n",
      "4                     6  \n",
      "\n",
      "[5 rows x 23 columns]\n"
     ]
    }
   ],
   "source": [
    "employee.rename(columns={\n",
    "    'EmployeeID': 'EmpID',\n",
    "    'FirstName': 'First_Name',\n",
    "    'LastName': 'Last_Name'\n",
    "}, inplace=True)\n",
    "print(employee.head())\n"
   ]
  },
  {
   "cell_type": "code",
   "execution_count": 67,
   "id": "301b07da-1b2f-423c-9c9b-5fb8bfe0aefa",
   "metadata": {
    "scrolled": true
   },
   "outputs": [
    {
     "name": "stdout",
     "output_type": "stream",
     "text": [
      "       EmpID  First_Name Last_Name      Gender  Age BusinessTravel  \\\n",
      "0  3012-1A41    Leonelle     Simco      Female   30    Some Travel   \n",
      "1  CBCB-9C9D     Leonerd     Aland        Male   38    Some Travel   \n",
      "2  95D7-1CE9       Ahmed     Sykes        Male   43    Some Travel   \n",
      "3  47A0-559B  Ermentrude    Berrie  Non-Binary   39    Some Travel   \n",
      "4  42CC-040A       Stace    Savege      Female   29    Some Travel   \n",
      "\n",
      "        Department  DistanceFromHome (KM) State                Ethnicity  ...  \\\n",
      "0            Sales                     27    IL                    White  ...   \n",
      "1            Sales                     23    CA                    White  ...   \n",
      "2  Human Resources                     29    CA  Asian or Asian American  ...   \n",
      "3       Technology                     12    IL                    White  ...   \n",
      "4  Human Resources                     29    CA                    White  ...   \n",
      "\n",
      "   MaritalStatus  Salary StockOptionLevel OverTime   HireDate  Attrition  \\\n",
      "0       Divorced  102059                1       No 2012-01-03         No   \n",
      "1         Single  157718                0      Yes 2012-01-04         No   \n",
      "2        Married  309964                1       No 2012-01-04         No   \n",
      "3        Married  293132                0       No 2012-01-05         No   \n",
      "4         Single   49606                0       No 2012-01-05        Yes   \n",
      "\n",
      "  YearsAtCompany YearsInMostRecentRole YearsSinceLastPromotion  \\\n",
      "0             10                     4                       9   \n",
      "1             10                     6                      10   \n",
      "2             10                     6                      10   \n",
      "3             10                    10                      10   \n",
      "4              6                     1                       1   \n",
      "\n",
      "   YearsWithCurrManager  \n",
      "0                     7  \n",
      "1                     0  \n",
      "2                     8  \n",
      "3                     0  \n",
      "4                     6  \n",
      "\n",
      "[5 rows x 23 columns]\n"
     ]
    }
   ],
   "source": [
    "\n",
    "employee['HireDate'] = pd.to_datetime(employee['HireDate'], format='%Y-%m-%d')\n",
    "print(employee.head())\n"
   ]
  },
  {
   "cell_type": "code",
   "execution_count": 69,
   "id": "a4fa0e54-ec75-4608-a26b-a587bcf6d4ca",
   "metadata": {
    "scrolled": true
   },
   "outputs": [
    {
     "name": "stdout",
     "output_type": "stream",
     "text": [
      "       EmpID  First_Name           Fullname Last_Name      Gender  Age  \\\n",
      "0  3012-1A41    LEONELLE     LEONELLE SIMCO     SIMCO      Female   30   \n",
      "1  CBCB-9C9D     LEONERD      LEONERD ALAND     ALAND        Male   38   \n",
      "2  95D7-1CE9       AHMED        AHMED SYKES     SYKES        Male   43   \n",
      "3  47A0-559B  ERMENTRUDE  ERMENTRUDE BERRIE    BERRIE  Non-Binary   39   \n",
      "4  42CC-040A       STACE       STACE SAVEGE    SAVEGE      Female   29   \n",
      "\n",
      "  BusinessTravel       Department  DistanceFromHome (KM) State  ...  \\\n",
      "0    Some Travel            Sales                     27    IL  ...   \n",
      "1    Some Travel            Sales                     23    CA  ...   \n",
      "2    Some Travel  Human Resources                     29    CA  ...   \n",
      "3    Some Travel       Technology                     12    IL  ...   \n",
      "4    Some Travel  Human Resources                     29    CA  ...   \n",
      "\n",
      "  MaritalStatus  Salary StockOptionLevel OverTime   HireDate  Attrition  \\\n",
      "0      Divorced  102059                1       No 2012-01-03         No   \n",
      "1        Single  157718                0      Yes 2012-01-04         No   \n",
      "2       Married  309964                1       No 2012-01-04         No   \n",
      "3       Married  293132                0       No 2012-01-05         No   \n",
      "4        Single   49606                0       No 2012-01-05        Yes   \n",
      "\n",
      "   YearsAtCompany YearsInMostRecentRole YearsSinceLastPromotion  \\\n",
      "0              10                     4                       9   \n",
      "1              10                     6                      10   \n",
      "2              10                     6                      10   \n",
      "3              10                    10                      10   \n",
      "4               6                     1                       1   \n",
      "\n",
      "  YearsWithCurrManager  \n",
      "0                    7  \n",
      "1                    0  \n",
      "2                    8  \n",
      "3                    0  \n",
      "4                    6  \n",
      "\n",
      "[5 rows x 24 columns]\n"
     ]
    }
   ],
   "source": [
    "\n",
    "employee['First_Name'] = employee['First_Name'].str.upper()\n",
    "employee['Last_Name'] = employee['Last_Name'].str.upper()\n",
    "\n",
    "\n",
    "employee.insert(2, 'Fullname', employee['First_Name'] + ' ' + employee['Last_Name'])\n",
    "\n",
    "print(employee.head())\n"
   ]
  },
  {
   "cell_type": "code",
   "execution_count": 71,
   "id": "2e16c84c-bee9-4944-9785-370678dd141f",
   "metadata": {},
   "outputs": [
    {
     "data": {
      "text/plain": [
       "0             SIMCO\n",
       "1             ALAND\n",
       "2             SYKES\n",
       "3            BERRIE\n",
       "4            SAVEGE\n",
       "           ...     \n",
       "1465      MELANAPHY\n",
       "1466         CALVER\n",
       "1467    MACDEARMONT\n",
       "1468            AGG\n",
       "1469        HEBBARD\n",
       "Name: Last_Name, Length: 1470, dtype: object"
      ]
     },
     "execution_count": 71,
     "metadata": {},
     "output_type": "execute_result"
    }
   ],
   "source": [
    "employee.pop('First_Name')    \n",
    "employee.pop('Last_Name')   "
   ]
  },
  {
   "cell_type": "code",
   "execution_count": 73,
   "id": "fea39a80-e6fb-45a0-9a6f-d3694ebd9481",
   "metadata": {},
   "outputs": [
    {
     "name": "stdout",
     "output_type": "stream",
     "text": [
      "   ID                     Level\n",
      "0   1  No Formal Qualifications\n",
      "1   2              High School \n",
      "2   3                Bachelors \n",
      "3   4                  Masters \n",
      "4   5                 Doctorate\n"
     ]
    }
   ],
   "source": [
    "education_level.rename(columns={\n",
    "    'EducationLevelID': 'ID',\n",
    "    'EducationLevel': 'Level'\n",
    "}, inplace=True)\n",
    "print(education_level.head())\n"
   ]
  },
  {
   "cell_type": "markdown",
   "id": "d538ce83-3e23-46ee-8bf5-4ec424825c78",
   "metadata": {},
   "source": [
    "## Extract files for csv"
   ]
  },
  {
   "cell_type": "code",
   "execution_count": 44,
   "id": "ff08c9a3-1a40-4d17-b12b-c76c1340771f",
   "metadata": {},
   "outputs": [],
   "source": [
    "satisfied_level.to_csv('satisfied_level.csv', index=False)\n"
   ]
  },
  {
   "cell_type": "code",
   "execution_count": 45,
   "id": "1411e3f4-6b24-41df-ac72-cc6af12ef250",
   "metadata": {},
   "outputs": [],
   "source": [
    "rating_level.to_csv('rating_level.csv', index=False)\n"
   ]
  },
  {
   "cell_type": "code",
   "execution_count": 53,
   "id": "0e356d29-353d-4875-902f-faa745c24bb7",
   "metadata": {},
   "outputs": [],
   "source": [
    "performance_rating.to_csv('performance_rating.csv', index=False)\n"
   ]
  },
  {
   "cell_type": "code",
   "execution_count": 48,
   "id": "8edd5f02-e798-4e39-af55-d4e726ba479f",
   "metadata": {},
   "outputs": [],
   "source": [
    "employee.to_csv('employee.csv', index=False)\n"
   ]
  },
  {
   "cell_type": "code",
   "execution_count": 47,
   "id": "831fb4dc-7f75-43f4-8c5f-6a7f64b08fff",
   "metadata": {},
   "outputs": [],
   "source": [
    "education_level.to_csv('education_level.csv', index=False)\n"
   ]
  },
  {
   "cell_type": "markdown",
   "id": "f223cb0f-64e7-47b6-b5f0-0e5cf3c15c8f",
   "metadata": {},
   "source": [
    "# Analysis Questions Phase"
   ]
  },
  {
   "cell_type": "code",
   "execution_count": 81,
   "id": "2a3b9f41-d6d6-481d-aafa-8d0da921bf79",
   "metadata": {},
   "outputs": [
    {
     "data": {
      "text/html": [
       "<div>\n",
       "<style scoped>\n",
       "    .dataframe tbody tr th:only-of-type {\n",
       "        vertical-align: middle;\n",
       "    }\n",
       "\n",
       "    .dataframe tbody tr th {\n",
       "        vertical-align: top;\n",
       "    }\n",
       "\n",
       "    .dataframe thead th {\n",
       "        text-align: right;\n",
       "    }\n",
       "</style>\n",
       "<table border=\"1\" class=\"dataframe\">\n",
       "  <thead>\n",
       "    <tr style=\"text-align: right;\">\n",
       "      <th></th>\n",
       "      <th>ID</th>\n",
       "      <th>Level</th>\n",
       "    </tr>\n",
       "  </thead>\n",
       "  <tbody>\n",
       "    <tr>\n",
       "      <th>0</th>\n",
       "      <td>1</td>\n",
       "      <td>Very Dissatisfied</td>\n",
       "    </tr>\n",
       "    <tr>\n",
       "      <th>1</th>\n",
       "      <td>2</td>\n",
       "      <td>Dissatisfied</td>\n",
       "    </tr>\n",
       "    <tr>\n",
       "      <th>2</th>\n",
       "      <td>3</td>\n",
       "      <td>Neutral</td>\n",
       "    </tr>\n",
       "    <tr>\n",
       "      <th>3</th>\n",
       "      <td>4</td>\n",
       "      <td>Satisfied</td>\n",
       "    </tr>\n",
       "    <tr>\n",
       "      <th>4</th>\n",
       "      <td>5</td>\n",
       "      <td>Very Satisfied</td>\n",
       "    </tr>\n",
       "  </tbody>\n",
       "</table>\n",
       "</div>"
      ],
      "text/plain": [
       "   ID              Level\n",
       "0   1  Very Dissatisfied\n",
       "1   2       Dissatisfied\n",
       "2   3            Neutral\n",
       "3   4         Satisfied \n",
       "4   5     Very Satisfied"
      ]
     },
     "execution_count": 81,
     "metadata": {},
     "output_type": "execute_result"
    }
   ],
   "source": [
    "satisfied_level.head()"
   ]
  },
  {
   "cell_type": "code",
   "execution_count": 83,
   "id": "9628d6e6-a224-470a-a54e-21890520e4f1",
   "metadata": {},
   "outputs": [
    {
     "data": {
      "text/html": [
       "<div>\n",
       "<style scoped>\n",
       "    .dataframe tbody tr th:only-of-type {\n",
       "        vertical-align: middle;\n",
       "    }\n",
       "\n",
       "    .dataframe tbody tr th {\n",
       "        vertical-align: top;\n",
       "    }\n",
       "\n",
       "    .dataframe thead th {\n",
       "        text-align: right;\n",
       "    }\n",
       "</style>\n",
       "<table border=\"1\" class=\"dataframe\">\n",
       "  <thead>\n",
       "    <tr style=\"text-align: right;\">\n",
       "      <th></th>\n",
       "      <th>ID</th>\n",
       "      <th>Level</th>\n",
       "    </tr>\n",
       "  </thead>\n",
       "  <tbody>\n",
       "    <tr>\n",
       "      <th>0</th>\n",
       "      <td>1</td>\n",
       "      <td>Unacceptable</td>\n",
       "    </tr>\n",
       "    <tr>\n",
       "      <th>1</th>\n",
       "      <td>2</td>\n",
       "      <td>Needs Improvement</td>\n",
       "    </tr>\n",
       "    <tr>\n",
       "      <th>2</th>\n",
       "      <td>3</td>\n",
       "      <td>Meets Expectation</td>\n",
       "    </tr>\n",
       "    <tr>\n",
       "      <th>3</th>\n",
       "      <td>4</td>\n",
       "      <td>Exceeds Expectation</td>\n",
       "    </tr>\n",
       "    <tr>\n",
       "      <th>4</th>\n",
       "      <td>5</td>\n",
       "      <td>Above and Beyond</td>\n",
       "    </tr>\n",
       "  </tbody>\n",
       "</table>\n",
       "</div>"
      ],
      "text/plain": [
       "   ID                 Level\n",
       "0   1          Unacceptable\n",
       "1   2     Needs Improvement\n",
       "2   3     Meets Expectation\n",
       "3   4  Exceeds Expectation \n",
       "4   5      Above and Beyond"
      ]
     },
     "execution_count": 83,
     "metadata": {},
     "output_type": "execute_result"
    }
   ],
   "source": [
    "rating_level.head()"
   ]
  },
  {
   "cell_type": "code",
   "execution_count": 85,
   "id": "86019700-d9ee-4ce3-bf5c-132d1010cb2b",
   "metadata": {},
   "outputs": [
    {
     "data": {
      "text/html": [
       "<div>\n",
       "<style scoped>\n",
       "    .dataframe tbody tr th:only-of-type {\n",
       "        vertical-align: middle;\n",
       "    }\n",
       "\n",
       "    .dataframe tbody tr th {\n",
       "        vertical-align: top;\n",
       "    }\n",
       "\n",
       "    .dataframe thead th {\n",
       "        text-align: right;\n",
       "    }\n",
       "</style>\n",
       "<table border=\"1\" class=\"dataframe\">\n",
       "  <thead>\n",
       "    <tr style=\"text-align: right;\">\n",
       "      <th></th>\n",
       "      <th>PerformanceID</th>\n",
       "      <th>EmployeeID</th>\n",
       "      <th>ReviewDate</th>\n",
       "      <th>EnvironmentSatisfaction</th>\n",
       "      <th>JobSatisfaction</th>\n",
       "      <th>RelationshipSatisfaction</th>\n",
       "      <th>TrainingOpportunitiesWithinYear</th>\n",
       "      <th>TrainingOpportunitiesTaken</th>\n",
       "      <th>WorkLifeBalance</th>\n",
       "      <th>SelfRating</th>\n",
       "      <th>ManagerRating</th>\n",
       "    </tr>\n",
       "  </thead>\n",
       "  <tbody>\n",
       "    <tr>\n",
       "      <th>0</th>\n",
       "      <td>PR01</td>\n",
       "      <td>79F7-78EC</td>\n",
       "      <td>1/2/2013</td>\n",
       "      <td>5</td>\n",
       "      <td>4</td>\n",
       "      <td>5</td>\n",
       "      <td>1</td>\n",
       "      <td>0</td>\n",
       "      <td>4</td>\n",
       "      <td>4</td>\n",
       "      <td>4</td>\n",
       "    </tr>\n",
       "    <tr>\n",
       "      <th>1</th>\n",
       "      <td>PR02</td>\n",
       "      <td>B61E-0F26</td>\n",
       "      <td>1/3/2013</td>\n",
       "      <td>5</td>\n",
       "      <td>4</td>\n",
       "      <td>4</td>\n",
       "      <td>1</td>\n",
       "      <td>3</td>\n",
       "      <td>4</td>\n",
       "      <td>4</td>\n",
       "      <td>3</td>\n",
       "    </tr>\n",
       "    <tr>\n",
       "      <th>2</th>\n",
       "      <td>PR03</td>\n",
       "      <td>F5E3-48BB</td>\n",
       "      <td>1/3/2013</td>\n",
       "      <td>3</td>\n",
       "      <td>4</td>\n",
       "      <td>5</td>\n",
       "      <td>3</td>\n",
       "      <td>2</td>\n",
       "      <td>3</td>\n",
       "      <td>5</td>\n",
       "      <td>4</td>\n",
       "    </tr>\n",
       "    <tr>\n",
       "      <th>3</th>\n",
       "      <td>PR04</td>\n",
       "      <td>0678-748A</td>\n",
       "      <td>1/4/2013</td>\n",
       "      <td>5</td>\n",
       "      <td>3</td>\n",
       "      <td>2</td>\n",
       "      <td>2</td>\n",
       "      <td>0</td>\n",
       "      <td>2</td>\n",
       "      <td>3</td>\n",
       "      <td>2</td>\n",
       "    </tr>\n",
       "    <tr>\n",
       "      <th>4</th>\n",
       "      <td>PR05</td>\n",
       "      <td>541F-3E19</td>\n",
       "      <td>1/4/2013</td>\n",
       "      <td>5</td>\n",
       "      <td>2</td>\n",
       "      <td>3</td>\n",
       "      <td>1</td>\n",
       "      <td>0</td>\n",
       "      <td>4</td>\n",
       "      <td>4</td>\n",
       "      <td>3</td>\n",
       "    </tr>\n",
       "  </tbody>\n",
       "</table>\n",
       "</div>"
      ],
      "text/plain": [
       "  PerformanceID EmployeeID ReviewDate  EnvironmentSatisfaction  \\\n",
       "0          PR01  79F7-78EC   1/2/2013                        5   \n",
       "1          PR02  B61E-0F26   1/3/2013                        5   \n",
       "2          PR03  F5E3-48BB   1/3/2013                        3   \n",
       "3          PR04  0678-748A   1/4/2013                        5   \n",
       "4          PR05  541F-3E19   1/4/2013                        5   \n",
       "\n",
       "   JobSatisfaction  RelationshipSatisfaction  TrainingOpportunitiesWithinYear  \\\n",
       "0                4                         5                                1   \n",
       "1                4                         4                                1   \n",
       "2                4                         5                                3   \n",
       "3                3                         2                                2   \n",
       "4                2                         3                                1   \n",
       "\n",
       "   TrainingOpportunitiesTaken  WorkLifeBalance  SelfRating  ManagerRating  \n",
       "0                           0                4           4              4  \n",
       "1                           3                4           4              3  \n",
       "2                           2                3           5              4  \n",
       "3                           0                2           3              2  \n",
       "4                           0                4           4              3  "
      ]
     },
     "execution_count": 85,
     "metadata": {},
     "output_type": "execute_result"
    }
   ],
   "source": [
    "performance_rating.head()"
   ]
  },
  {
   "cell_type": "code",
   "execution_count": 215,
   "id": "a3111431-2169-4fa0-aedc-cc644bc81ef2",
   "metadata": {},
   "outputs": [
    {
     "data": {
      "text/html": [
       "<div>\n",
       "<style scoped>\n",
       "    .dataframe tbody tr th:only-of-type {\n",
       "        vertical-align: middle;\n",
       "    }\n",
       "\n",
       "    .dataframe tbody tr th {\n",
       "        vertical-align: top;\n",
       "    }\n",
       "\n",
       "    .dataframe thead th {\n",
       "        text-align: right;\n",
       "    }\n",
       "</style>\n",
       "<table border=\"1\" class=\"dataframe\">\n",
       "  <thead>\n",
       "    <tr style=\"text-align: right;\">\n",
       "      <th></th>\n",
       "      <th>EmpID</th>\n",
       "      <th>Fullname</th>\n",
       "      <th>Gender</th>\n",
       "      <th>Age</th>\n",
       "      <th>BusinessTravel</th>\n",
       "      <th>Department</th>\n",
       "      <th>DistanceFromHome (KM)</th>\n",
       "      <th>State</th>\n",
       "      <th>Ethnicity</th>\n",
       "      <th>Education</th>\n",
       "      <th>...</th>\n",
       "      <th>MaritalStatus</th>\n",
       "      <th>Salary</th>\n",
       "      <th>StockOptionLevel</th>\n",
       "      <th>OverTime</th>\n",
       "      <th>HireDate</th>\n",
       "      <th>Attrition</th>\n",
       "      <th>YearsAtCompany</th>\n",
       "      <th>YearsInMostRecentRole</th>\n",
       "      <th>YearsSinceLastPromotion</th>\n",
       "      <th>YearsWithCurrManager</th>\n",
       "    </tr>\n",
       "  </thead>\n",
       "  <tbody>\n",
       "    <tr>\n",
       "      <th>0</th>\n",
       "      <td>3012-1A41</td>\n",
       "      <td>LEONELLE SIMCO</td>\n",
       "      <td>Female</td>\n",
       "      <td>30</td>\n",
       "      <td>Some Travel</td>\n",
       "      <td>Sales</td>\n",
       "      <td>27</td>\n",
       "      <td>IL</td>\n",
       "      <td>White</td>\n",
       "      <td>5</td>\n",
       "      <td>...</td>\n",
       "      <td>Divorced</td>\n",
       "      <td>102059</td>\n",
       "      <td>1</td>\n",
       "      <td>No</td>\n",
       "      <td>2012-01-03</td>\n",
       "      <td>No</td>\n",
       "      <td>10</td>\n",
       "      <td>4</td>\n",
       "      <td>9</td>\n",
       "      <td>7</td>\n",
       "    </tr>\n",
       "    <tr>\n",
       "      <th>1</th>\n",
       "      <td>CBCB-9C9D</td>\n",
       "      <td>LEONERD ALAND</td>\n",
       "      <td>Male</td>\n",
       "      <td>38</td>\n",
       "      <td>Some Travel</td>\n",
       "      <td>Sales</td>\n",
       "      <td>23</td>\n",
       "      <td>CA</td>\n",
       "      <td>White</td>\n",
       "      <td>4</td>\n",
       "      <td>...</td>\n",
       "      <td>Single</td>\n",
       "      <td>157718</td>\n",
       "      <td>0</td>\n",
       "      <td>Yes</td>\n",
       "      <td>2012-01-04</td>\n",
       "      <td>No</td>\n",
       "      <td>10</td>\n",
       "      <td>6</td>\n",
       "      <td>10</td>\n",
       "      <td>0</td>\n",
       "    </tr>\n",
       "    <tr>\n",
       "      <th>2</th>\n",
       "      <td>95D7-1CE9</td>\n",
       "      <td>AHMED SYKES</td>\n",
       "      <td>Male</td>\n",
       "      <td>43</td>\n",
       "      <td>Some Travel</td>\n",
       "      <td>Human Resources</td>\n",
       "      <td>29</td>\n",
       "      <td>CA</td>\n",
       "      <td>Asian or Asian American</td>\n",
       "      <td>4</td>\n",
       "      <td>...</td>\n",
       "      <td>Married</td>\n",
       "      <td>309964</td>\n",
       "      <td>1</td>\n",
       "      <td>No</td>\n",
       "      <td>2012-01-04</td>\n",
       "      <td>No</td>\n",
       "      <td>10</td>\n",
       "      <td>6</td>\n",
       "      <td>10</td>\n",
       "      <td>8</td>\n",
       "    </tr>\n",
       "    <tr>\n",
       "      <th>3</th>\n",
       "      <td>47A0-559B</td>\n",
       "      <td>ERMENTRUDE BERRIE</td>\n",
       "      <td>Non-Binary</td>\n",
       "      <td>39</td>\n",
       "      <td>Some Travel</td>\n",
       "      <td>Technology</td>\n",
       "      <td>12</td>\n",
       "      <td>IL</td>\n",
       "      <td>White</td>\n",
       "      <td>3</td>\n",
       "      <td>...</td>\n",
       "      <td>Married</td>\n",
       "      <td>293132</td>\n",
       "      <td>0</td>\n",
       "      <td>No</td>\n",
       "      <td>2012-01-05</td>\n",
       "      <td>No</td>\n",
       "      <td>10</td>\n",
       "      <td>10</td>\n",
       "      <td>10</td>\n",
       "      <td>0</td>\n",
       "    </tr>\n",
       "    <tr>\n",
       "      <th>4</th>\n",
       "      <td>42CC-040A</td>\n",
       "      <td>STACE SAVEGE</td>\n",
       "      <td>Female</td>\n",
       "      <td>29</td>\n",
       "      <td>Some Travel</td>\n",
       "      <td>Human Resources</td>\n",
       "      <td>29</td>\n",
       "      <td>CA</td>\n",
       "      <td>White</td>\n",
       "      <td>2</td>\n",
       "      <td>...</td>\n",
       "      <td>Single</td>\n",
       "      <td>49606</td>\n",
       "      <td>0</td>\n",
       "      <td>No</td>\n",
       "      <td>2012-01-05</td>\n",
       "      <td>Yes</td>\n",
       "      <td>6</td>\n",
       "      <td>1</td>\n",
       "      <td>1</td>\n",
       "      <td>6</td>\n",
       "    </tr>\n",
       "  </tbody>\n",
       "</table>\n",
       "<p>5 rows × 22 columns</p>\n",
       "</div>"
      ],
      "text/plain": [
       "       EmpID           Fullname      Gender  Age BusinessTravel  \\\n",
       "0  3012-1A41     LEONELLE SIMCO      Female   30    Some Travel   \n",
       "1  CBCB-9C9D      LEONERD ALAND        Male   38    Some Travel   \n",
       "2  95D7-1CE9        AHMED SYKES        Male   43    Some Travel   \n",
       "3  47A0-559B  ERMENTRUDE BERRIE  Non-Binary   39    Some Travel   \n",
       "4  42CC-040A       STACE SAVEGE      Female   29    Some Travel   \n",
       "\n",
       "        Department  DistanceFromHome (KM) State                Ethnicity  \\\n",
       "0            Sales                     27    IL                    White   \n",
       "1            Sales                     23    CA                    White   \n",
       "2  Human Resources                     29    CA  Asian or Asian American   \n",
       "3       Technology                     12    IL                    White   \n",
       "4  Human Resources                     29    CA                    White   \n",
       "\n",
       "   Education  ... MaritalStatus  Salary StockOptionLevel  OverTime   HireDate  \\\n",
       "0          5  ...      Divorced  102059                1        No 2012-01-03   \n",
       "1          4  ...        Single  157718                0       Yes 2012-01-04   \n",
       "2          4  ...       Married  309964                1        No 2012-01-04   \n",
       "3          3  ...       Married  293132                0        No 2012-01-05   \n",
       "4          2  ...        Single   49606                0        No 2012-01-05   \n",
       "\n",
       "  Attrition YearsAtCompany YearsInMostRecentRole  YearsSinceLastPromotion  \\\n",
       "0        No             10                     4                        9   \n",
       "1        No             10                     6                       10   \n",
       "2        No             10                     6                       10   \n",
       "3        No             10                    10                       10   \n",
       "4       Yes              6                     1                        1   \n",
       "\n",
       "   YearsWithCurrManager  \n",
       "0                     7  \n",
       "1                     0  \n",
       "2                     8  \n",
       "3                     0  \n",
       "4                     6  \n",
       "\n",
       "[5 rows x 22 columns]"
      ]
     },
     "execution_count": 215,
     "metadata": {},
     "output_type": "execute_result"
    }
   ],
   "source": [
    "employee.head()"
   ]
  },
  {
   "cell_type": "code",
   "execution_count": 89,
   "id": "0648863e-11b0-4a79-ae17-b8927d8e43a6",
   "metadata": {},
   "outputs": [
    {
     "data": {
      "text/html": [
       "<div>\n",
       "<style scoped>\n",
       "    .dataframe tbody tr th:only-of-type {\n",
       "        vertical-align: middle;\n",
       "    }\n",
       "\n",
       "    .dataframe tbody tr th {\n",
       "        vertical-align: top;\n",
       "    }\n",
       "\n",
       "    .dataframe thead th {\n",
       "        text-align: right;\n",
       "    }\n",
       "</style>\n",
       "<table border=\"1\" class=\"dataframe\">\n",
       "  <thead>\n",
       "    <tr style=\"text-align: right;\">\n",
       "      <th></th>\n",
       "      <th>ID</th>\n",
       "      <th>Level</th>\n",
       "    </tr>\n",
       "  </thead>\n",
       "  <tbody>\n",
       "    <tr>\n",
       "      <th>0</th>\n",
       "      <td>1</td>\n",
       "      <td>No Formal Qualifications</td>\n",
       "    </tr>\n",
       "    <tr>\n",
       "      <th>1</th>\n",
       "      <td>2</td>\n",
       "      <td>High School</td>\n",
       "    </tr>\n",
       "    <tr>\n",
       "      <th>2</th>\n",
       "      <td>3</td>\n",
       "      <td>Bachelors</td>\n",
       "    </tr>\n",
       "    <tr>\n",
       "      <th>3</th>\n",
       "      <td>4</td>\n",
       "      <td>Masters</td>\n",
       "    </tr>\n",
       "    <tr>\n",
       "      <th>4</th>\n",
       "      <td>5</td>\n",
       "      <td>Doctorate</td>\n",
       "    </tr>\n",
       "  </tbody>\n",
       "</table>\n",
       "</div>"
      ],
      "text/plain": [
       "   ID                     Level\n",
       "0   1  No Formal Qualifications\n",
       "1   2              High School \n",
       "2   3                Bachelors \n",
       "3   4                  Masters \n",
       "4   5                 Doctorate"
      ]
     },
     "execution_count": 89,
     "metadata": {},
     "output_type": "execute_result"
    }
   ],
   "source": [
    "education_level.head()"
   ]
  },
  {
   "cell_type": "code",
   "execution_count": 91,
   "id": "443e5632-5128-4527-bee5-e23fe355a487",
   "metadata": {},
   "outputs": [
    {
     "data": {
      "text/html": [
       "<div>\n",
       "<style scoped>\n",
       "    .dataframe tbody tr th:only-of-type {\n",
       "        vertical-align: middle;\n",
       "    }\n",
       "\n",
       "    .dataframe tbody tr th {\n",
       "        vertical-align: top;\n",
       "    }\n",
       "\n",
       "    .dataframe thead th {\n",
       "        text-align: right;\n",
       "    }\n",
       "</style>\n",
       "<table border=\"1\" class=\"dataframe\">\n",
       "  <thead>\n",
       "    <tr style=\"text-align: right;\">\n",
       "      <th></th>\n",
       "      <th>Age</th>\n",
       "      <th>DistanceFromHome (KM)</th>\n",
       "      <th>Education</th>\n",
       "      <th>Salary</th>\n",
       "      <th>StockOptionLevel</th>\n",
       "      <th>HireDate</th>\n",
       "      <th>YearsAtCompany</th>\n",
       "      <th>YearsInMostRecentRole</th>\n",
       "      <th>YearsSinceLastPromotion</th>\n",
       "      <th>YearsWithCurrManager</th>\n",
       "    </tr>\n",
       "  </thead>\n",
       "  <tbody>\n",
       "    <tr>\n",
       "      <th>count</th>\n",
       "      <td>1470.000000</td>\n",
       "      <td>1470.000000</td>\n",
       "      <td>1470.000000</td>\n",
       "      <td>1470.000000</td>\n",
       "      <td>1470.000000</td>\n",
       "      <td>1470</td>\n",
       "      <td>1470.000000</td>\n",
       "      <td>1470.000000</td>\n",
       "      <td>1470.000000</td>\n",
       "      <td>1470.000000</td>\n",
       "    </tr>\n",
       "    <tr>\n",
       "      <th>mean</th>\n",
       "      <td>28.989796</td>\n",
       "      <td>22.502721</td>\n",
       "      <td>2.912925</td>\n",
       "      <td>112956.497959</td>\n",
       "      <td>0.793878</td>\n",
       "      <td>2017-07-05 14:50:26.938775296</td>\n",
       "      <td>4.562585</td>\n",
       "      <td>2.293197</td>\n",
       "      <td>3.440816</td>\n",
       "      <td>2.239456</td>\n",
       "    </tr>\n",
       "    <tr>\n",
       "      <th>min</th>\n",
       "      <td>18.000000</td>\n",
       "      <td>1.000000</td>\n",
       "      <td>1.000000</td>\n",
       "      <td>20387.000000</td>\n",
       "      <td>0.000000</td>\n",
       "      <td>2012-01-03 00:00:00</td>\n",
       "      <td>0.000000</td>\n",
       "      <td>0.000000</td>\n",
       "      <td>0.000000</td>\n",
       "      <td>0.000000</td>\n",
       "    </tr>\n",
       "    <tr>\n",
       "      <th>25%</th>\n",
       "      <td>23.000000</td>\n",
       "      <td>12.000000</td>\n",
       "      <td>2.000000</td>\n",
       "      <td>43580.500000</td>\n",
       "      <td>0.000000</td>\n",
       "      <td>2014-07-10 06:00:00</td>\n",
       "      <td>2.000000</td>\n",
       "      <td>0.000000</td>\n",
       "      <td>1.000000</td>\n",
       "      <td>0.000000</td>\n",
       "    </tr>\n",
       "    <tr>\n",
       "      <th>50%</th>\n",
       "      <td>26.000000</td>\n",
       "      <td>22.000000</td>\n",
       "      <td>3.000000</td>\n",
       "      <td>71199.500000</td>\n",
       "      <td>1.000000</td>\n",
       "      <td>2017-09-02 00:00:00</td>\n",
       "      <td>4.000000</td>\n",
       "      <td>1.000000</td>\n",
       "      <td>3.000000</td>\n",
       "      <td>1.000000</td>\n",
       "    </tr>\n",
       "    <tr>\n",
       "      <th>75%</th>\n",
       "      <td>34.000000</td>\n",
       "      <td>33.000000</td>\n",
       "      <td>4.000000</td>\n",
       "      <td>142055.750000</td>\n",
       "      <td>1.000000</td>\n",
       "      <td>2020-05-14 18:00:00</td>\n",
       "      <td>7.000000</td>\n",
       "      <td>4.000000</td>\n",
       "      <td>6.000000</td>\n",
       "      <td>4.000000</td>\n",
       "    </tr>\n",
       "    <tr>\n",
       "      <th>max</th>\n",
       "      <td>51.000000</td>\n",
       "      <td>45.000000</td>\n",
       "      <td>5.000000</td>\n",
       "      <td>547204.000000</td>\n",
       "      <td>3.000000</td>\n",
       "      <td>2022-12-31 00:00:00</td>\n",
       "      <td>10.000000</td>\n",
       "      <td>10.000000</td>\n",
       "      <td>10.000000</td>\n",
       "      <td>10.000000</td>\n",
       "    </tr>\n",
       "    <tr>\n",
       "      <th>std</th>\n",
       "      <td>7.993055</td>\n",
       "      <td>12.811124</td>\n",
       "      <td>1.024165</td>\n",
       "      <td>103342.889222</td>\n",
       "      <td>0.852077</td>\n",
       "      <td>NaN</td>\n",
       "      <td>3.288048</td>\n",
       "      <td>2.539093</td>\n",
       "      <td>2.945194</td>\n",
       "      <td>2.505774</td>\n",
       "    </tr>\n",
       "  </tbody>\n",
       "</table>\n",
       "</div>"
      ],
      "text/plain": [
       "               Age  DistanceFromHome (KM)    Education         Salary  \\\n",
       "count  1470.000000            1470.000000  1470.000000    1470.000000   \n",
       "mean     28.989796              22.502721     2.912925  112956.497959   \n",
       "min      18.000000               1.000000     1.000000   20387.000000   \n",
       "25%      23.000000              12.000000     2.000000   43580.500000   \n",
       "50%      26.000000              22.000000     3.000000   71199.500000   \n",
       "75%      34.000000              33.000000     4.000000  142055.750000   \n",
       "max      51.000000              45.000000     5.000000  547204.000000   \n",
       "std       7.993055              12.811124     1.024165  103342.889222   \n",
       "\n",
       "       StockOptionLevel                       HireDate  YearsAtCompany  \\\n",
       "count       1470.000000                           1470     1470.000000   \n",
       "mean           0.793878  2017-07-05 14:50:26.938775296        4.562585   \n",
       "min            0.000000            2012-01-03 00:00:00        0.000000   \n",
       "25%            0.000000            2014-07-10 06:00:00        2.000000   \n",
       "50%            1.000000            2017-09-02 00:00:00        4.000000   \n",
       "75%            1.000000            2020-05-14 18:00:00        7.000000   \n",
       "max            3.000000            2022-12-31 00:00:00       10.000000   \n",
       "std            0.852077                            NaN        3.288048   \n",
       "\n",
       "       YearsInMostRecentRole  YearsSinceLastPromotion  YearsWithCurrManager  \n",
       "count            1470.000000              1470.000000           1470.000000  \n",
       "mean                2.293197                 3.440816              2.239456  \n",
       "min                 0.000000                 0.000000              0.000000  \n",
       "25%                 0.000000                 1.000000              0.000000  \n",
       "50%                 1.000000                 3.000000              1.000000  \n",
       "75%                 4.000000                 6.000000              4.000000  \n",
       "max                10.000000                10.000000             10.000000  \n",
       "std                 2.539093                 2.945194              2.505774  "
      ]
     },
     "execution_count": 91,
     "metadata": {},
     "output_type": "execute_result"
    }
   ],
   "source": [
    "employee.describe()"
   ]
  },
  {
   "cell_type": "code",
   "execution_count": 95,
   "id": "886297a5-2fdd-40a4-8e23-e73ffbbf8345",
   "metadata": {},
   "outputs": [
    {
     "data": {
      "text/plain": [
       "Index(['EmpID', 'Fullname', 'Gender', 'Age', 'BusinessTravel', 'Department',\n",
       "       'DistanceFromHome (KM)', 'State', 'Ethnicity', 'Education',\n",
       "       'EducationField', 'JobRole', 'MaritalStatus', 'Salary',\n",
       "       'StockOptionLevel', 'OverTime', 'HireDate', 'Attrition',\n",
       "       'YearsAtCompany', 'YearsInMostRecentRole', 'YearsSinceLastPromotion',\n",
       "       'YearsWithCurrManager'],\n",
       "      dtype='object')"
      ]
     },
     "execution_count": 95,
     "metadata": {},
     "output_type": "execute_result"
    }
   ],
   "source": [
    "employee.columns"
   ]
  },
  {
   "cell_type": "markdown",
   "id": "42861cee-c1a2-45ce-bb79-dd5a3952c9a0",
   "metadata": {},
   "source": [
    "# Who Are The Top 10 Earning Employees?"
   ]
  },
  {
   "cell_type": "code",
   "execution_count": 163,
   "id": "4f717ac6-461a-484c-979e-f33542abdd59",
   "metadata": {},
   "outputs": [
    {
     "data": {
      "text/html": [
       "<div>\n",
       "<style scoped>\n",
       "    .dataframe tbody tr th:only-of-type {\n",
       "        vertical-align: middle;\n",
       "    }\n",
       "\n",
       "    .dataframe tbody tr th {\n",
       "        vertical-align: top;\n",
       "    }\n",
       "\n",
       "    .dataframe thead th {\n",
       "        text-align: right;\n",
       "    }\n",
       "</style>\n",
       "<table border=\"1\" class=\"dataframe\">\n",
       "  <thead>\n",
       "    <tr style=\"text-align: right;\">\n",
       "      <th></th>\n",
       "      <th>Fullname</th>\n",
       "      <th>Gender</th>\n",
       "      <th>Department</th>\n",
       "      <th>Salary</th>\n",
       "    </tr>\n",
       "  </thead>\n",
       "  <tbody>\n",
       "    <tr>\n",
       "      <th>385</th>\n",
       "      <td>NORBIE MOSDILL</td>\n",
       "      <td>Male</td>\n",
       "      <td>Technology</td>\n",
       "      <td>547204</td>\n",
       "    </tr>\n",
       "    <tr>\n",
       "      <th>397</th>\n",
       "      <td>RODA COSTIN</td>\n",
       "      <td>Female</td>\n",
       "      <td>Technology</td>\n",
       "      <td>546549</td>\n",
       "    </tr>\n",
       "    <tr>\n",
       "      <th>65</th>\n",
       "      <td>LEONIDAS CLARKE-WILLIAMS</td>\n",
       "      <td>Non-Binary</td>\n",
       "      <td>Technology</td>\n",
       "      <td>542695</td>\n",
       "    </tr>\n",
       "    <tr>\n",
       "      <th>1167</th>\n",
       "      <td>RANDI OSWICK</td>\n",
       "      <td>Female</td>\n",
       "      <td>Technology</td>\n",
       "      <td>539998</td>\n",
       "    </tr>\n",
       "    <tr>\n",
       "      <th>1054</th>\n",
       "      <td>LOCK PIERSON</td>\n",
       "      <td>Male</td>\n",
       "      <td>Technology</td>\n",
       "      <td>531629</td>\n",
       "    </tr>\n",
       "    <tr>\n",
       "      <th>961</th>\n",
       "      <td>RODRIQUE ROHLFING</td>\n",
       "      <td>Male</td>\n",
       "      <td>Technology</td>\n",
       "      <td>519361</td>\n",
       "    </tr>\n",
       "    <tr>\n",
       "      <th>1031</th>\n",
       "      <td>ANGELIA LETRANGE</td>\n",
       "      <td>Female</td>\n",
       "      <td>Technology</td>\n",
       "      <td>517695</td>\n",
       "    </tr>\n",
       "    <tr>\n",
       "      <th>159</th>\n",
       "      <td>ALBINA BASTON</td>\n",
       "      <td>Female</td>\n",
       "      <td>Technology</td>\n",
       "      <td>514945</td>\n",
       "    </tr>\n",
       "    <tr>\n",
       "      <th>239</th>\n",
       "      <td>STEARNE AXELBEE</td>\n",
       "      <td>Male</td>\n",
       "      <td>Technology</td>\n",
       "      <td>513608</td>\n",
       "    </tr>\n",
       "    <tr>\n",
       "      <th>934</th>\n",
       "      <td>ADELINA BITTLESTONE</td>\n",
       "      <td>Female</td>\n",
       "      <td>Technology</td>\n",
       "      <td>513325</td>\n",
       "    </tr>\n",
       "  </tbody>\n",
       "</table>\n",
       "</div>"
      ],
      "text/plain": [
       "                      Fullname      Gender  Department  Salary\n",
       "385             NORBIE MOSDILL        Male  Technology  547204\n",
       "397                RODA COSTIN      Female  Technology  546549\n",
       "65    LEONIDAS CLARKE-WILLIAMS  Non-Binary  Technology  542695\n",
       "1167              RANDI OSWICK      Female  Technology  539998\n",
       "1054              LOCK PIERSON        Male  Technology  531629\n",
       "961          RODRIQUE ROHLFING        Male  Technology  519361\n",
       "1031          ANGELIA LETRANGE      Female  Technology  517695\n",
       "159              ALBINA BASTON      Female  Technology  514945\n",
       "239            STEARNE AXELBEE        Male  Technology  513608\n",
       "934        ADELINA BITTLESTONE      Female  Technology  513325"
      ]
     },
     "execution_count": 163,
     "metadata": {},
     "output_type": "execute_result"
    }
   ],
   "source": [
    "top_10 = employee.nlargest(10, 'Salary')[[\"Fullname\", \"Gender\", \"Department\", 'Salary']]\n",
    "top_10"
   ]
  },
  {
   "cell_type": "code",
   "execution_count": 165,
   "id": "d8e28499-470b-49dd-982f-de28bd193849",
   "metadata": {},
   "outputs": [
    {
     "data": {
      "text/plain": [
       "<BarContainer object of 10 artists>"
      ]
     },
     "execution_count": 165,
     "metadata": {},
     "output_type": "execute_result"
    },
    {
     "data": {
      "image/png": "[encoded data removed]",
      "text/plain": [
       "<Figure size 640x480 with 1 Axes>"
      ]
     },
     "metadata": {},
     "output_type": "display_data"
    }
   ],
   "source": [
    "plt.barh(top_10[\"Fullname\"], top_10[\"Salary\"])"
   ]
  },
  {
   "cell_type": "markdown",
   "id": "fa182058-efe5-404a-8633-0e6549308d80",
   "metadata": {},
   "source": [
    "# How Many Employees Are There In Each Department?"
   ]
  },
  {
   "cell_type": "code",
   "execution_count": 151,
   "id": "bac7eae5-dcd6-471b-860c-fa69853ba184",
   "metadata": {},
   "outputs": [
    {
     "data": {
      "text/plain": [
       "Department\n",
       "Technology         961\n",
       "Sales              446\n",
       "Human Resources     63\n",
       "Name: count, dtype: int64"
      ]
     },
     "execution_count": 151,
     "metadata": {},
     "output_type": "execute_result"
    }
   ],
   "source": [
    "No_of_employees = employee['Department'].value_counts()\n",
    "No_of_employees"
   ]
  },
  {
   "cell_type": "code",
   "execution_count": 153,
   "id": "c7745596-a96a-446d-8fa4-3b9e6b84b0bf",
   "metadata": {},
   "outputs": [],
   "source": [
    "department = No_of_employees.index\n",
    "No_of_employees = No_of_employees.values"
   ]
  },
  {
   "cell_type": "code",
   "execution_count": 155,
   "id": "7cb5d956-360e-4f3a-ad44-63a756399596",
   "metadata": {},
   "outputs": [
    {
     "data": {
      "image/png": "[encoded data removed]",
      "text/plain": [
       "<Figure size 640x480 with 1 Axes>"
      ]
     },
     "metadata": {},
     "output_type": "display_data"
    }
   ],
   "source": [
    "# Creating the bar plot\n",
    "plt.bar(department, No_of_employees)\n",
    "plt.title(\"Number of Employees In Each Category\")\n",
    "plt.show()"
   ]
  },
  {
   "cell_type": "code",
   "execution_count": 169,
   "id": "46f23416-5323-44ae-8774-cbcfe92244c9",
   "metadata": {},
   "outputs": [
    {
     "data": {
      "text/plain": [
       "Index(['EmpID', 'Fullname', 'Gender', 'Age', 'BusinessTravel', 'Department',\n",
       "       'DistanceFromHome (KM)', 'State', 'Ethnicity', 'Education',\n",
       "       'EducationField', 'JobRole', 'MaritalStatus', 'Salary',\n",
       "       'StockOptionLevel', 'OverTime', 'HireDate', 'Attrition',\n",
       "       'YearsAtCompany', 'YearsInMostRecentRole', 'YearsSinceLastPromotion',\n",
       "       'YearsWithCurrManager'],\n",
       "      dtype='object')"
      ]
     },
     "execution_count": 169,
     "metadata": {},
     "output_type": "execute_result"
    }
   ],
   "source": [
    "employee.columns"
   ]
  },
  {
   "cell_type": "markdown",
   "id": "a52a2f6a-02be-4242-9914-d74e06d66bf3",
   "metadata": {},
   "source": [
    "# Is There Any Gender Discrimination Regarding The Hiring Process?"
   ]
  },
  {
   "cell_type": "code",
   "execution_count": 213,
   "id": "c9a1b6e3-bb92-499f-80d2-d0a83d91459a",
   "metadata": {},
   "outputs": [
    {
     "data": {
      "text/plain": [
       "Gender\n",
       "Female               675\n",
       "Male                 651\n",
       "Non-Binary           124\n",
       "Prefer Not To Say     20\n",
       "Name: count, dtype: int64"
      ]
     },
     "execution_count": 213,
     "metadata": {},
     "output_type": "execute_result"
    }
   ],
   "source": [
    "gender_counts = employee['Gender'].value_counts()\n",
    "gender_counts"
   ]
  },
  {
   "cell_type": "code",
   "execution_count": 209,
   "id": "50317cb9-cf25-48e0-99d4-4c5f321bdacc",
   "metadata": {},
   "outputs": [
    {
     "data": {
      "image/png": "[encoded data removed]",
      "text/plain": [
       "<Figure size 600x600 with 1 Axes>"
      ]
     },
     "metadata": {},
     "output_type": "display_data"
    }
   ],
   "source": [
    "gender_counts.plot.pie(autopct='%1.1f%%', figsize=(6, 6), startangle=90, colors=['#ff9999','#66b3ff','#99ff99',\"#FFFF00\"])\n",
    "\n",
    "plt.ylabel('')\n",
    "plt.title('Gender Distribution of Employees')\n",
    "plt.show()"
   ]
  },
  {
   "cell_type": "markdown",
   "id": "0257adaf-e963-4a64-8c67-17de603994e7",
   "metadata": {},
   "source": [
    "# What Are The Satisfaction Trends?"
   ]
  },
  {
   "cell_type": "code",
   "execution_count": 274,
   "id": "8ff1fe64-d08b-4dec-997b-1941c7d8eae2",
   "metadata": {},
   "outputs": [
    {
     "data": {
      "text/plain": [
       "EnvironmentSatisfaction     3.872559\n",
       "JobSatisfaction             3.430616\n",
       "RelationshipSatisfaction    3.427336\n",
       "WorkLifeBalance             3.414667\n",
       "SelfRating                  3.984051\n",
       "ManagerRating               3.473394\n",
       "dtype: float64"
      ]
     },
     "execution_count": 274,
     "metadata": {},
     "output_type": "execute_result"
    }
   ],
   "source": [
    "avg_satisfaction = performance_rating[['EnvironmentSatisfaction', 'JobSatisfaction', \n",
    "                              'RelationshipSatisfaction', 'WorkLifeBalance', \n",
    "                              'SelfRating', 'ManagerRating']].mean()\n",
    "avg_satisfaction"
   ]
  },
  {
   "cell_type": "code",
   "execution_count": 197,
   "id": "f830846b-3bf0-4dc8-a9f1-b2cd71c5f040",
   "metadata": {},
   "outputs": [
    {
     "data": {
      "image/png": "[encoded data removed]",
      "text/plain": [
       "<Figure size 1000x600 with 1 Axes>"
      ]
     },
     "metadata": {},
     "output_type": "display_data"
    }
   ],
   "source": [
    "performance_rating[['EnvironmentSatisfaction', 'JobSatisfaction', \n",
    "           'RelationshipSatisfaction', 'WorkLifeBalance', \n",
    "           'SelfRating', 'ManagerRating']].boxplot(figsize=(10, 6))\n",
    "plt.title('Distribution of Satisfaction Levels')\n",
    "plt.ylabel('Satisfaction Score')\n",
    "plt.xticks(rotation=45)\n",
    "plt.show()"
   ]
  },
  {
   "cell_type": "markdown",
   "id": "80ca950e-667f-47b4-9626-f4fe331fb2d9",
   "metadata": {},
   "source": [
    "# What Is The Correlation Between Satisfaction and Ratings?"
   ]
  },
  {
   "cell_type": "code",
   "execution_count": 283,
   "id": "9758c417-dd33-4d6b-8fc1-512b9462d854",
   "metadata": {},
   "outputs": [
    {
     "data": {
      "text/html": [
       "<div>\n",
       "<style scoped>\n",
       "    .dataframe tbody tr th:only-of-type {\n",
       "        vertical-align: middle;\n",
       "    }\n",
       "\n",
       "    .dataframe tbody tr th {\n",
       "        vertical-align: top;\n",
       "    }\n",
       "\n",
       "    .dataframe thead th {\n",
       "        text-align: right;\n",
       "    }\n",
       "</style>\n",
       "<table border=\"1\" class=\"dataframe\">\n",
       "  <thead>\n",
       "    <tr style=\"text-align: right;\">\n",
       "      <th></th>\n",
       "      <th>EnvironmentSatisfaction</th>\n",
       "      <th>JobSatisfaction</th>\n",
       "      <th>RelationshipSatisfaction</th>\n",
       "      <th>SelfRating</th>\n",
       "      <th>ManagerRating</th>\n",
       "    </tr>\n",
       "  </thead>\n",
       "  <tbody>\n",
       "    <tr>\n",
       "      <th>EnvironmentSatisfaction</th>\n",
       "      <td>1.000000</td>\n",
       "      <td>0.102046</td>\n",
       "      <td>0.095539</td>\n",
       "      <td>0.000459</td>\n",
       "      <td>-0.005643</td>\n",
       "    </tr>\n",
       "    <tr>\n",
       "      <th>JobSatisfaction</th>\n",
       "      <td>0.102046</td>\n",
       "      <td>1.000000</td>\n",
       "      <td>0.048128</td>\n",
       "      <td>-0.008701</td>\n",
       "      <td>-0.015821</td>\n",
       "    </tr>\n",
       "    <tr>\n",
       "      <th>RelationshipSatisfaction</th>\n",
       "      <td>0.095539</td>\n",
       "      <td>0.048128</td>\n",
       "      <td>1.000000</td>\n",
       "      <td>0.018425</td>\n",
       "      <td>0.018999</td>\n",
       "    </tr>\n",
       "    <tr>\n",
       "      <th>SelfRating</th>\n",
       "      <td>0.000459</td>\n",
       "      <td>-0.008701</td>\n",
       "      <td>0.018425</td>\n",
       "      <td>1.000000</td>\n",
       "      <td>0.854107</td>\n",
       "    </tr>\n",
       "    <tr>\n",
       "      <th>ManagerRating</th>\n",
       "      <td>-0.005643</td>\n",
       "      <td>-0.015821</td>\n",
       "      <td>0.018999</td>\n",
       "      <td>0.854107</td>\n",
       "      <td>1.000000</td>\n",
       "    </tr>\n",
       "  </tbody>\n",
       "</table>\n",
       "</div>"
      ],
      "text/plain": [
       "                          EnvironmentSatisfaction  JobSatisfaction  \\\n",
       "EnvironmentSatisfaction                  1.000000         0.102046   \n",
       "JobSatisfaction                          0.102046         1.000000   \n",
       "RelationshipSatisfaction                 0.095539         0.048128   \n",
       "SelfRating                               0.000459        -0.008701   \n",
       "ManagerRating                           -0.005643        -0.015821   \n",
       "\n",
       "                          RelationshipSatisfaction  SelfRating  ManagerRating  \n",
       "EnvironmentSatisfaction                   0.095539    0.000459      -0.005643  \n",
       "JobSatisfaction                           0.048128   -0.008701      -0.015821  \n",
       "RelationshipSatisfaction                  1.000000    0.018425       0.018999  \n",
       "SelfRating                                0.018425    1.000000       0.854107  \n",
       "ManagerRating                             0.018999    0.854107       1.000000  "
      ]
     },
     "execution_count": 283,
     "metadata": {},
     "output_type": "execute_result"
    }
   ],
   "source": [
    "satisfaction_rating_corr = performance_rating[['EnvironmentSatisfaction', 'JobSatisfaction', 'RelationshipSatisfaction', 'SelfRating', 'ManagerRating']].corr()\n",
    "satisfaction_rating_corr"
   ]
  },
  {
   "cell_type": "markdown",
   "id": "eed7a9ba-a304-47e7-b451-b6dab20cc105",
   "metadata": {},
   "source": [
    "# Group by Department and calculate average satisfaction levels"
   ]
  },
  {
   "cell_type": "code",
   "execution_count": 285,
   "id": "71da65e2-c019-4bc2-892d-bda9f36ff512",
   "metadata": {},
   "outputs": [
    {
     "data": {
      "text/html": [
       "<div>\n",
       "<style scoped>\n",
       "    .dataframe tbody tr th:only-of-type {\n",
       "        vertical-align: middle;\n",
       "    }\n",
       "\n",
       "    .dataframe tbody tr th {\n",
       "        vertical-align: top;\n",
       "    }\n",
       "\n",
       "    .dataframe thead th {\n",
       "        text-align: right;\n",
       "    }\n",
       "</style>\n",
       "<table border=\"1\" class=\"dataframe\">\n",
       "  <thead>\n",
       "    <tr style=\"text-align: right;\">\n",
       "      <th></th>\n",
       "      <th>EnvironmentSatisfaction</th>\n",
       "      <th>JobSatisfaction</th>\n",
       "      <th>RelationshipSatisfaction</th>\n",
       "    </tr>\n",
       "    <tr>\n",
       "      <th>Department</th>\n",
       "      <th></th>\n",
       "      <th></th>\n",
       "      <th></th>\n",
       "    </tr>\n",
       "  </thead>\n",
       "  <tbody>\n",
       "    <tr>\n",
       "      <th>Human Resources</th>\n",
       "      <td>3.861386</td>\n",
       "      <td>3.435644</td>\n",
       "      <td>3.353135</td>\n",
       "    </tr>\n",
       "    <tr>\n",
       "      <th>Sales</th>\n",
       "      <td>3.892508</td>\n",
       "      <td>3.422057</td>\n",
       "      <td>3.451838</td>\n",
       "    </tr>\n",
       "    <tr>\n",
       "      <th>Technology</th>\n",
       "      <td>3.863284</td>\n",
       "      <td>3.434578</td>\n",
       "      <td>3.420249</td>\n",
       "    </tr>\n",
       "  </tbody>\n",
       "</table>\n",
       "</div>"
      ],
      "text/plain": [
       "                 EnvironmentSatisfaction  JobSatisfaction  \\\n",
       "Department                                                  \n",
       "Human Resources                 3.861386         3.435644   \n",
       "Sales                           3.892508         3.422057   \n",
       "Technology                      3.863284         3.434578   \n",
       "\n",
       "                 RelationshipSatisfaction  \n",
       "Department                                 \n",
       "Human Resources                  3.353135  \n",
       "Sales                            3.451838  \n",
       "Technology                       3.420249  "
      ]
     },
     "execution_count": 285,
     "metadata": {},
     "output_type": "execute_result"
    }
   ],
   "source": [
    "satisfaction_by_department = performance_rating.merge(employee, left_on='EmployeeID', right_on='EmpID').groupby('Department')[['EnvironmentSatisfaction', 'JobSatisfaction', 'RelationshipSatisfaction']].mean()\n",
    "satisfaction_by_department"
   ]
  },
  {
   "cell_type": "markdown",
   "id": "21a85ac9-bff5-428b-bd79-13bf14ea5d77",
   "metadata": {},
   "source": [
    "# Merge performance data with employee data and group by Attrition"
   ]
  },
  {
   "cell_type": "code",
   "execution_count": 223,
   "id": "a10b7005-16e2-4b92-ab73-c2e00c5810e2",
   "metadata": {},
   "outputs": [
    {
     "name": "stdout",
     "output_type": "stream",
     "text": [
      "           JobSatisfaction\n",
      "Attrition                 \n",
      "No                3.419739\n",
      "Yes               3.452012\n"
     ]
    }
   ],
   "source": [
    "satisfaction_vs_attrition = performance_rating.merge(employee, left_on='EmployeeID', right_on='EmpID').groupby('Attrition')[['JobSatisfaction']].mean()\n",
    "satisfaction_vs_attrition"
   ]
  },
  {
   "cell_type": "markdown",
   "id": "25623382-5ac3-4bf5-bd04-15253eec26b2",
   "metadata": {},
   "source": [
    "# Correlation between work-life balance and satisfaction levels"
   ]
  },
  {
   "cell_type": "code",
   "execution_count": 225,
   "id": "c519d1c4-c9af-416c-8a67-6ec2edc7bcdb",
   "metadata": {},
   "outputs": [
    {
     "name": "stdout",
     "output_type": "stream",
     "text": [
      "                          WorkLifeBalance  EnvironmentSatisfaction  \\\n",
      "WorkLifeBalance                  1.000000                 0.098293   \n",
      "EnvironmentSatisfaction          0.098293                 1.000000   \n",
      "JobSatisfaction                  0.041724                 0.102046   \n",
      "RelationshipSatisfaction         0.055782                 0.095539   \n",
      "\n",
      "                          JobSatisfaction  RelationshipSatisfaction  \n",
      "WorkLifeBalance                  0.041724                  0.055782  \n",
      "EnvironmentSatisfaction          0.102046                  0.095539  \n",
      "JobSatisfaction                  1.000000                  0.048128  \n",
      "RelationshipSatisfaction         0.048128                  1.000000  \n"
     ]
    }
   ],
   "source": [
    "work_life_balance_corr = performance_rating[['WorkLifeBalance', 'EnvironmentSatisfaction', 'JobSatisfaction', 'RelationshipSatisfaction']].corr()\n",
    "work_life_balance_corr"
   ]
  },
  {
   "cell_type": "markdown",
   "id": "d21ebf41-8e2c-4c47-ba07-01e7108d5bc4",
   "metadata": {},
   "source": [
    "# Group by TrainingOpportunitiesTaken and calculate average satisfaction"
   ]
  },
  {
   "cell_type": "code",
   "execution_count": 227,
   "id": "04b5678e-7bc8-4569-9cae-36395d985620",
   "metadata": {},
   "outputs": [
    {
     "name": "stdout",
     "output_type": "stream",
     "text": [
      "                            JobSatisfaction  RelationshipSatisfaction\n",
      "TrainingOpportunitiesTaken                                           \n",
      "0                                  3.440135                  3.439713\n",
      "1                                  3.415680                  3.436913\n",
      "2                                  3.419255                  3.399068\n",
      "3                                  3.478333                  3.400000\n"
     ]
    }
   ],
   "source": [
    "satisfaction_by_training = performance_rating.groupby('TrainingOpportunitiesTaken')[['JobSatisfaction', 'RelationshipSatisfaction']].mean()\n",
    "satisfaction_by_training"
   ]
  },
  {
   "cell_type": "markdown",
   "id": "de8056a1-19af-4302-a5c7-ad83ddfbfce9",
   "metadata": {},
   "source": [
    "# Group by Department and calculate average ratings"
   ]
  },
  {
   "cell_type": "code",
   "execution_count": 229,
   "id": "e525e324-adb2-4801-a0c7-b8cf3a848d93",
   "metadata": {},
   "outputs": [
    {
     "name": "stdout",
     "output_type": "stream",
     "text": [
      "                 SelfRating  ManagerRating\n",
      "Department                                \n",
      "Human Resources    3.990099       3.442244\n",
      "Sales              3.973476       3.449977\n",
      "Technology         3.988959       3.487432\n"
     ]
    }
   ],
   "source": [
    "rating_by_department = performance_rating.merge(employee, left_on='EmployeeID', right_on='EmpID').groupby('Department')[['SelfRating', 'ManagerRating']].mean()\n",
    "rating_by_department"
   ]
  },
  {
   "cell_type": "markdown",
   "id": "52caae16-fd60-4566-9ae0-894d415a3206",
   "metadata": {},
   "source": [
    "# Who Are The Most Performing Employees?"
   ]
  },
  {
   "cell_type": "code",
   "execution_count": 261,
   "id": "6bba2165-6742-4372-bfe6-da29ec5e250e",
   "metadata": {},
   "outputs": [
    {
     "data": {
      "text/html": [
       "<div>\n",
       "<style scoped>\n",
       "    .dataframe tbody tr th:only-of-type {\n",
       "        vertical-align: middle;\n",
       "    }\n",
       "\n",
       "    .dataframe tbody tr th {\n",
       "        vertical-align: top;\n",
       "    }\n",
       "\n",
       "    .dataframe thead th {\n",
       "        text-align: right;\n",
       "    }\n",
       "</style>\n",
       "<table border=\"1\" class=\"dataframe\">\n",
       "  <thead>\n",
       "    <tr style=\"text-align: right;\">\n",
       "      <th></th>\n",
       "      <th>Fullname</th>\n",
       "      <th>Salary</th>\n",
       "    </tr>\n",
       "  </thead>\n",
       "  <tbody>\n",
       "    <tr>\n",
       "      <th>1699</th>\n",
       "      <td>NORBIE MOSDILL</td>\n",
       "      <td>547204</td>\n",
       "    </tr>\n",
       "    <tr>\n",
       "      <th>3608</th>\n",
       "      <td>NORBIE MOSDILL</td>\n",
       "      <td>547204</td>\n",
       "    </tr>\n",
       "    <tr>\n",
       "      <th>2042</th>\n",
       "      <td>RODA COSTIN</td>\n",
       "      <td>546549</td>\n",
       "    </tr>\n",
       "    <tr>\n",
       "      <th>1588</th>\n",
       "      <td>LEONIDAS CLARKE-WILLIAMS</td>\n",
       "      <td>542695</td>\n",
       "    </tr>\n",
       "    <tr>\n",
       "      <th>2217</th>\n",
       "      <td>RANDI OSWICK</td>\n",
       "      <td>539998</td>\n",
       "    </tr>\n",
       "  </tbody>\n",
       "</table>\n",
       "</div>"
      ],
      "text/plain": [
       "                      Fullname  Salary\n",
       "1699            NORBIE MOSDILL  547204\n",
       "3608            NORBIE MOSDILL  547204\n",
       "2042               RODA COSTIN  546549\n",
       "1588  LEONIDAS CLARKE-WILLIAMS  542695\n",
       "2217              RANDI OSWICK  539998"
      ]
     },
     "execution_count": 261,
     "metadata": {},
     "output_type": "execute_result"
    }
   ],
   "source": [
    "merged_data = performance_rating.merge(employee, left_on='EmployeeID', right_on='EmpID')\n",
    "top_performing_employees = merged_data.sort_values(by=['ManagerRating', 'SelfRating', 'Salary'], ascending=[False, False, False])\n",
    "top_performing_employees[['Fullname', 'Salary']].head()"
   ]
  },
  {
   "cell_type": "markdown",
   "id": "1cdfb042-01c0-4c93-88a7-3511ba517823",
   "metadata": {},
   "source": [
    "# Distribution of Job Satisfaction Across Departments"
   ]
  },
  {
   "cell_type": "code",
   "execution_count": 253,
   "id": "44bc7cf9-926e-4d43-b0d1-3df9574e6087",
   "metadata": {},
   "outputs": [
    {
     "data": {
      "image/png": "[encoded data removed]",
      "text/plain": [
       "<Figure size 1000x600 with 1 Axes>"
      ]
     },
     "metadata": {},
     "output_type": "display_data"
    }
   ],
   "source": [
    "import seaborn as sns\n",
    "import matplotlib.pyplot as plt\n",
    "\n",
    "# Merge performance_rating with employee data on EmployeeID and EmpID\n",
    "performance_rating_with_employee = performance_rating.merge(employee, left_on='EmployeeID', right_on='EmpID')\n",
    "# Plotting Job Satisfaction by Department\n",
    "plt.figure(figsize=(10, 6))\n",
    "sns.boxplot(x='Department', y='JobSatisfaction', data=performance_rating_with_employee)\n",
    "plt.title('Distribution of Job Satisfaction Across Departments')\n",
    "plt.xticks(rotation=45)\n",
    "plt.show()"
   ]
  },
  {
   "cell_type": "markdown",
   "id": "c6cfbcc7-033b-46b5-b938-081fa7c53a1e",
   "metadata": {},
   "source": [
    "# Distribution of Job Satisfaction Across Departments"
   ]
  },
  {
   "cell_type": "code",
   "execution_count": 243,
   "id": "738521d2-c065-4549-888b-0765e5294a72",
   "metadata": {},
   "outputs": [
    {
     "data": {
      "image/png": "[encoded data removed]",
      "text/plain": [
       "<Figure size 800x600 with 1 Axes>"
      ]
     },
     "metadata": {},
     "output_type": "display_data"
    }
   ],
   "source": [
    "education_data = employee.merge(education_level, left_on='Education', right_on='ID'\n",
    "\n",
    "plt.figure(figsize=(8, 6))\n",
    "sns.barplot(x='Level', y='JobSatisfaction', data=education_data.merge(performance_rating, left_on='EmpID', right_on='EmployeeID'))\n",
    "plt.title('Job Satisfaction by Education Level')\n",
    "plt.xticks(rotation=45)\n",
    "plt.show()"
   ]
  },
  {
   "cell_type": "code",
   "execution_count": 249,
   "id": "6709bc6f-8f76-4fb5-8734-c0e7d9572702",
   "metadata": {},
   "outputs": [
    {
     "data": {
      "image/png": "[encoded data removed]",
      "text/plain": [
       "<Figure size 800x600 with 1 Axes>"
      ]
     },
     "metadata": {},
     "output_type": "display_data"
    }
   ],
   "source": [
    "plt.figure(figsize=(8, 6))\n",
    "sns.boxplot(x='WorkLifeBalance', y='JobSatisfaction', data=performance_rating)\n",
    "plt.title('Impact of Work-Life Balance on Job Satisfaction')\n",
    "plt.show()"
   ]
  },
  {
   "cell_type": "code",
   "execution_count": 5,
   "id": "ae77e1de-8ac6-455a-934d-bf15ccefea50",
   "metadata": {},
   "outputs": [
    {
     "ename": "NameError",
     "evalue": "name 'merged_data' is not defined",
     "output_type": "error",
     "traceback": [
      "\u001b[1;31m---------------------------------------------------------------------------\u001b[0m",
      "\u001b[1;31mNameError\u001b[0m                                 Traceback (most recent call last)",
      "Cell \u001b[1;32mIn[5], line 1\u001b[0m\n\u001b[1;32m----> 1\u001b[0m average_satisfaction \u001b[38;5;241m=\u001b[39m merged_data\u001b[38;5;241m.\u001b[39mgroupby(\u001b[38;5;124m'\u001b[39m\u001b[38;5;124mDistanceFromHome (KM)\u001b[39m\u001b[38;5;124m'\u001b[39m)[\u001b[38;5;124m'\u001b[39m\u001b[38;5;124mJobSatisfaction\u001b[39m\u001b[38;5;124m'\u001b[39m]\u001b[38;5;241m.\u001b[39mmean()\u001b[38;5;241m.\u001b[39mreset_index()\n\u001b[0;32m      3\u001b[0m \u001b[38;5;66;03m# Line plot to show the trend of Job Satisfaction over DistanceFromHome\u001b[39;00m\n\u001b[0;32m      4\u001b[0m plt\u001b[38;5;241m.\u001b[39mfigure(figsize\u001b[38;5;241m=\u001b[39m(\u001b[38;5;241m10\u001b[39m, \u001b[38;5;241m6\u001b[39m))\n",
      "\u001b[1;31mNameError\u001b[0m: name 'merged_data' is not defined"
     ]
    }
   ],
   "source": [
    "# Grouping the data by DistanceFromHome and calculating the average Job Satisfaction\n",
    "average_satisfaction = merged_data.groupby('DistanceFromHome (KM)')['JobSatisfaction'].mean().reset_index()\n",
    "\n",
    "# Line plot to show the trend of Job Satisfaction over DistanceFromHome\n",
    "plt.figure(figsize=(10, 6))\n",
    "sns.lineplot(x='DistanceFromHome (KM)', y='JobSatisfaction', data=average_satisfaction, marker='o')\n",
    "plt.title('Average Job Satisfaction by Distance From Home')\n",
    "plt.xlabel('Distance from Home (KM)')\n",
    "plt.ylabel('Average Job Satisfaction')\n",
    "plt.grid(True)\n",
    "plt.show()"
   ]
  },
  {
   "cell_type": "code",
   "execution_count": null,
   "id": "5bf9b193-1ae6-47bb-92ec-2fd238f35abe",
   "metadata": {},
   "outputs": [],
   "source": []
  },
  {
   "cell_type": "code",
   "execution_count": null,
   "id": "cab9fd50-1893-4b03-b107-cb3980e5fc6a",
   "metadata": {},
   "outputs": [],
   "source": []
  },
  {
   "cell_type": "code",
   "execution_count": null,
   "id": "6e5177c3-d358-482a-9243-3845e8feeba2",
   "metadata": {},
   "outputs": [],
   "source": []
  },
  {
   "cell_type": "code",
   "execution_count": null,
   "id": "7ada44ec-eea5-475b-b731-2f300607c9b0",
   "metadata": {},
   "outputs": [],
   "source": []
  },
  {
   "cell_type": "code",
   "execution_count": null,
   "id": "1d2184c4-10d3-4eac-a503-ddcc3524e9b9",
   "metadata": {},
   "outputs": [],
   "source": []
  },
  {
   "cell_type": "code",
   "execution_count": null,
   "id": "fae5d147-1fe1-4584-9a26-06bfc44d7370",
   "metadata": {},
   "outputs": [],
   "source": []
  },
  {
   "cell_type": "code",
   "execution_count": null,
   "id": "55e4e21e-96f3-4a17-afe1-a46ecc0c7935",
   "metadata": {},
   "outputs": [],
   "source": []
  },
  {
   "cell_type": "code",
   "execution_count": null,
   "id": "6d603d58-0481-46d4-85a9-626889f36f23",
   "metadata": {},
   "outputs": [],
   "source": []
  },
  {
   "cell_type": "code",
   "execution_count": null,
   "id": "392662b0-1fc6-4af7-a78e-19b56e690e15",
   "metadata": {},
   "outputs": [],
   "source": []
  },
  {
   "cell_type": "code",
   "execution_count": null,
   "id": "348fa25a-20d3-494b-ba65-eb5c433336a9",
   "metadata": {},
   "outputs": [],
   "source": []
  },
  {
   "cell_type": "code",
   "execution_count": null,
   "id": "1fed383a-10b1-4143-9e12-34f32effe669",
   "metadata": {},
   "outputs": [],
   "source": []
  },
  {
   "cell_type": "code",
   "execution_count": null,
   "id": "2ee8d91b-8b36-468b-986c-99131db475ed",
   "metadata": {},
   "outputs": [],
   "source": []
  },
  {
   "cell_type": "code",
   "execution_count": null,
   "id": "d0b4ec6f-15cd-4f8f-b61c-99e025ade512",
   "metadata": {},
   "outputs": [],
   "source": []
  },
  {
   "cell_type": "code",
   "execution_count": null,
   "id": "83c2ac59-12aa-4d46-8736-b8400b310f16",
   "metadata": {},
   "outputs": [],
   "source": []
  },
  {
   "cell_type": "code",
   "execution_count": null,
   "id": "a974fbd3-77d8-4648-863f-9e2de7460a50",
   "metadata": {},
   "outputs": [],
   "source": []
  },
  {
   "cell_type": "code",
   "execution_count": null,
   "id": "a093c32d-92d1-45b8-b557-20e8e1c3dc95",
   "metadata": {},
   "outputs": [],
   "source": []
  },
  {
   "cell_type": "code",
   "execution_count": null,
   "id": "51b75907-d434-4d6e-96f4-5de15bc56475",
   "metadata": {},
   "outputs": [],
   "source": []
  },
  {
   "cell_type": "code",
   "execution_count": null,
   "id": "44b92c96-6319-490d-80da-3576189cf5eb",
   "metadata": {},
   "outputs": [],
   "source": []
  }
 ],
 "metadata": {
  "kernelspec": {
   "display_name": "Python 3 (ipykernel)",
   "language": "python",
   "name": "python3"
  },
  "language_info": {
   "codemirror_mode": {
    "name": "ipython",
    "version": 3
   },
   "file_extension": ".py",
   "mimetype": "text/x-python",
   "name": "python",
   "nbconvert_exporter": "python",
   "pygments_lexer": "ipython3",
   "version": "3.12.4"
  }
 },
 "nbformat": 4,
 "nbformat_minor": 5
}
